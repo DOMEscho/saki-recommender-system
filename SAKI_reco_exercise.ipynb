{
  "nbformat": 4,
  "nbformat_minor": 5,
  "metadata": {
    "kernelspec": {
      "display_name": "Python 3",
      "language": "python",
      "name": "python3"
    },
    "language_info": {
      "codemirror_mode": {
        "name": "ipython",
        "version": 3
      },
      "file_extension": ".py",
      "mimetype": "text/x-python",
      "name": "python",
      "nbconvert_exporter": "python",
      "pygments_lexer": "ipython3",
      "version": "3.8.10"
    },
    "colab": {
      "name": "SAKI reco exercise.ipynb",
      "provenance": [],
      "collapsed_sections": [],
      "include_colab_link": true
    }
  },
  "cells": [
    {
      "cell_type": "markdown",
      "metadata": {
        "id": "view-in-github",
        "colab_type": "text"
      },
      "source": [
        "<a href=\"https://colab.research.google.com/github/DOMEscho/saki-recommender-system/blob/main/SAKI_reco_exercise.ipynb\" target=\"_parent\"><img src=\"https://colab.research.google.com/assets/colab-badge.svg\" alt=\"Open In Colab\"/></a>"
      ]
    },
    {
      "cell_type": "markdown",
      "metadata": {
        "id": "375fcebf-05e0-44e1-baf8-abeae6ce3eed"
      },
      "source": [
        "# Recommender system exercises\n",
        "\n",
        "You'll need to install the packages pandas and matplotlib for this exercise.\n",
        "\n",
        "We're working with the movielens data set, the smaller version. This data set contains 100k ratings for 9000 movies from 600 users.\n",
        "\n",
        "We'll have a look at the data, implement collaborative filtering, and look at some typical metrics."
      ],
      "id": "375fcebf-05e0-44e1-baf8-abeae6ce3eed"
    },
    {
      "cell_type": "markdown",
      "metadata": {
        "id": "29c7d75b-fe07-4cef-b289-48740a9789e7"
      },
      "source": [
        "## Getting the data\n",
        "\n",
        "Uncomment the lines in the next box and this will download the files and unzip them in this directory.\n"
      ],
      "id": "29c7d75b-fe07-4cef-b289-48740a9789e7"
    },
    {
      "cell_type": "code",
      "metadata": {
        "colab": {
          "base_uri": "https://localhost:8080/"
        },
        "id": "08325700-5f6c-4c3a-ab60-deed2cbc4504",
        "outputId": "97ea0d7a-1757-438c-eefa-c1fbff4137ad"
      },
      "source": [
        "# Do this only once!\n",
        "#!wget http://files.grouplens.org/datasets/movielens/ml-latest-small.zip\n",
        "#!unzip ml-latest-small.zip"
      ],
      "id": "08325700-5f6c-4c3a-ab60-deed2cbc4504",
      "execution_count": 4,
      "outputs": [
        {
          "output_type": "stream",
          "text": [
            "--2021-06-19 10:22:32--  http://files.grouplens.org/datasets/movielens/ml-latest-small.zip\n",
            "Resolving files.grouplens.org (files.grouplens.org)... 128.101.65.152\n",
            "Connecting to files.grouplens.org (files.grouplens.org)|128.101.65.152|:80... connected.\n",
            "HTTP request sent, awaiting response... 200 OK\n",
            "Length: 978202 (955K) [application/zip]\n",
            "Saving to: ‘ml-latest-small.zip’\n",
            "\n",
            "ml-latest-small.zip 100%[===================>] 955.28K  4.60MB/s    in 0.2s    \n",
            "\n",
            "2021-06-19 10:22:32 (4.60 MB/s) - ‘ml-latest-small.zip’ saved [978202/978202]\n",
            "\n",
            "Archive:  ml-latest-small.zip\n",
            "   creating: ml-latest-small/\n",
            "  inflating: ml-latest-small/links.csv  \n",
            "  inflating: ml-latest-small/tags.csv  \n",
            "  inflating: ml-latest-small/ratings.csv  \n",
            "  inflating: ml-latest-small/README.txt  \n",
            "  inflating: ml-latest-small/movies.csv  \n"
          ],
          "name": "stdout"
        }
      ]
    },
    {
      "cell_type": "markdown",
      "metadata": {
        "id": "22b06f16-6b79-4b2c-b0c7-2fb598b5a51e"
      },
      "source": [
        "These are the includes for the rest of the notebook"
      ],
      "id": "22b06f16-6b79-4b2c-b0c7-2fb598b5a51e"
    },
    {
      "cell_type": "code",
      "metadata": {
        "id": "4766af4e-320c-4048-8aed-b2ddbebf8bec"
      },
      "source": [
        "import pandas as pd\n",
        "import numpy as np\n",
        "import datetime\n",
        "import matplotlib as mpl\n",
        "import matplotlib.pyplot as plt"
      ],
      "id": "4766af4e-320c-4048-8aed-b2ddbebf8bec",
      "execution_count": 5,
      "outputs": []
    },
    {
      "cell_type": "markdown",
      "metadata": {
        "id": "a080f010-2876-4131-8740-27f25c306200"
      },
      "source": [
        "## Reading the movie data\n",
        "\n",
        "Let's start by reading the movie data and define a function findMovieByTitle that returns all movies which match a given string.\n",
        "\n",
        "We'll use the [pandas](https://pandas.pydata.org/pandas-docs/stable/index.html) library for loading. Key to performance is to not manually iterate over the data, but use built-in functions as much as possible."
      ],
      "id": "a080f010-2876-4131-8740-27f25c306200"
    },
    {
      "cell_type": "code",
      "metadata": {
        "id": "32daf323-2cbe-4c86-9b9e-2f26434bdbab"
      },
      "source": [
        "movies = pd.read_csv('ml-latest-small/movies.csv', index_col='movieId') # why is it called index_col, not index"
      ],
      "id": "32daf323-2cbe-4c86-9b9e-2f26434bdbab",
      "execution_count": 6,
      "outputs": []
    },
    {
      "cell_type": "code",
      "metadata": {
        "colab": {
          "base_uri": "https://localhost:8080/",
          "height": 237
        },
        "id": "-CdyaDGS1_94",
        "outputId": "86cef768-62c7-4489-9bf5-4af5396db15e"
      },
      "source": [
        "movies.head()"
      ],
      "id": "-CdyaDGS1_94",
      "execution_count": 7,
      "outputs": [
        {
          "output_type": "execute_result",
          "data": {
            "text/html": [
              "<div>\n",
              "<style scoped>\n",
              "    .dataframe tbody tr th:only-of-type {\n",
              "        vertical-align: middle;\n",
              "    }\n",
              "\n",
              "    .dataframe tbody tr th {\n",
              "        vertical-align: top;\n",
              "    }\n",
              "\n",
              "    .dataframe thead th {\n",
              "        text-align: right;\n",
              "    }\n",
              "</style>\n",
              "<table border=\"1\" class=\"dataframe\">\n",
              "  <thead>\n",
              "    <tr style=\"text-align: right;\">\n",
              "      <th></th>\n",
              "      <th>title</th>\n",
              "      <th>genres</th>\n",
              "    </tr>\n",
              "    <tr>\n",
              "      <th>movieId</th>\n",
              "      <th></th>\n",
              "      <th></th>\n",
              "    </tr>\n",
              "  </thead>\n",
              "  <tbody>\n",
              "    <tr>\n",
              "      <th>1</th>\n",
              "      <td>Toy Story (1995)</td>\n",
              "      <td>Adventure|Animation|Children|Comedy|Fantasy</td>\n",
              "    </tr>\n",
              "    <tr>\n",
              "      <th>2</th>\n",
              "      <td>Jumanji (1995)</td>\n",
              "      <td>Adventure|Children|Fantasy</td>\n",
              "    </tr>\n",
              "    <tr>\n",
              "      <th>3</th>\n",
              "      <td>Grumpier Old Men (1995)</td>\n",
              "      <td>Comedy|Romance</td>\n",
              "    </tr>\n",
              "    <tr>\n",
              "      <th>4</th>\n",
              "      <td>Waiting to Exhale (1995)</td>\n",
              "      <td>Comedy|Drama|Romance</td>\n",
              "    </tr>\n",
              "    <tr>\n",
              "      <th>5</th>\n",
              "      <td>Father of the Bride Part II (1995)</td>\n",
              "      <td>Comedy</td>\n",
              "    </tr>\n",
              "  </tbody>\n",
              "</table>\n",
              "</div>"
            ],
            "text/plain": [
              "                                      title                                       genres\n",
              "movieId                                                                                 \n",
              "1                          Toy Story (1995)  Adventure|Animation|Children|Comedy|Fantasy\n",
              "2                            Jumanji (1995)                   Adventure|Children|Fantasy\n",
              "3                   Grumpier Old Men (1995)                               Comedy|Romance\n",
              "4                  Waiting to Exhale (1995)                         Comedy|Drama|Romance\n",
              "5        Father of the Bride Part II (1995)                                       Comedy"
            ]
          },
          "metadata": {
            "tags": []
          },
          "execution_count": 7
        }
      ]
    },
    {
      "cell_type": "markdown",
      "metadata": {
        "id": "73a364bf-4f94-42f6-ab32-c77eac5ccdff"
      },
      "source": [
        "Implement a function findMovieByTitle that returns all movies whose title matches the string passed.\n",
        "\n",
        "Then, let's return all movies containing the term 'Matrix'"
      ],
      "id": "73a364bf-4f94-42f6-ab32-c77eac5ccdff"
    },
    {
      "cell_type": "code",
      "metadata": {
        "colab": {
          "base_uri": "https://localhost:8080/",
          "height": 175
        },
        "id": "bb31ddf7-0948-4860-b1ee-dcc2622c46db",
        "outputId": "f878b8cf-10e7-43a2-b119-6ffd12e975e4"
      },
      "source": [
        "# a function to do some exploration\n",
        "def find_movie_by_title(title):\n",
        "    return movies[movies.title.str.find(title) != -1]\n",
        "\n",
        "find_movie_by_title('Matrix')"
      ],
      "id": "bb31ddf7-0948-4860-b1ee-dcc2622c46db",
      "execution_count": 8,
      "outputs": [
        {
          "output_type": "execute_result",
          "data": {
            "text/html": [
              "<div>\n",
              "<style scoped>\n",
              "    .dataframe tbody tr th:only-of-type {\n",
              "        vertical-align: middle;\n",
              "    }\n",
              "\n",
              "    .dataframe tbody tr th {\n",
              "        vertical-align: top;\n",
              "    }\n",
              "\n",
              "    .dataframe thead th {\n",
              "        text-align: right;\n",
              "    }\n",
              "</style>\n",
              "<table border=\"1\" class=\"dataframe\">\n",
              "  <thead>\n",
              "    <tr style=\"text-align: right;\">\n",
              "      <th></th>\n",
              "      <th>title</th>\n",
              "      <th>genres</th>\n",
              "    </tr>\n",
              "    <tr>\n",
              "      <th>movieId</th>\n",
              "      <th></th>\n",
              "      <th></th>\n",
              "    </tr>\n",
              "  </thead>\n",
              "  <tbody>\n",
              "    <tr>\n",
              "      <th>2571</th>\n",
              "      <td>Matrix, The (1999)</td>\n",
              "      <td>Action|Sci-Fi|Thriller</td>\n",
              "    </tr>\n",
              "    <tr>\n",
              "      <th>6365</th>\n",
              "      <td>Matrix Reloaded, The (2003)</td>\n",
              "      <td>Action|Adventure|Sci-Fi|Thriller|IMAX</td>\n",
              "    </tr>\n",
              "    <tr>\n",
              "      <th>6934</th>\n",
              "      <td>Matrix Revolutions, The (2003)</td>\n",
              "      <td>Action|Adventure|Sci-Fi|Thriller|IMAX</td>\n",
              "    </tr>\n",
              "  </tbody>\n",
              "</table>\n",
              "</div>"
            ],
            "text/plain": [
              "                                  title                                 genres\n",
              "movieId                                                                       \n",
              "2571                 Matrix, The (1999)                 Action|Sci-Fi|Thriller\n",
              "6365        Matrix Reloaded, The (2003)  Action|Adventure|Sci-Fi|Thriller|IMAX\n",
              "6934     Matrix Revolutions, The (2003)  Action|Adventure|Sci-Fi|Thriller|IMAX"
            ]
          },
          "metadata": {
            "tags": []
          },
          "execution_count": 8
        }
      ]
    },
    {
      "cell_type": "markdown",
      "metadata": {
        "id": "97e7f030-7c49-4b29-804e-9927aef0e542"
      },
      "source": [
        "## Reading the ratings data\n",
        "\n",
        "Next, we'll load the ratings data set. Use datetime.datetime.fromtimestamp to convert the timestamp column to an actual datetime object (this will make it more readable)"
      ],
      "id": "97e7f030-7c49-4b29-804e-9927aef0e542"
    },
    {
      "cell_type": "code",
      "metadata": {
        "id": "0809bd19-abf8-4879-9153-b9fee7ea64ed"
      },
      "source": [
        "ratings = pd.read_csv('ml-latest-small/ratings.csv')\n",
        "ratings.timestamp = ratings.timestamp.apply(datetime.datetime.fromtimestamp) # datetime.datetime WTF\n",
        "\n",
        "userIds = ratings.userId.unique()\n"
      ],
      "id": "0809bd19-abf8-4879-9153-b9fee7ea64ed",
      "execution_count": 9,
      "outputs": []
    },
    {
      "cell_type": "code",
      "metadata": {
        "colab": {
          "base_uri": "https://localhost:8080/"
        },
        "id": "jQPeupgg3Q2H",
        "outputId": "1a8a3ffa-8c0d-406a-9874-dacb69ad8c9c"
      },
      "source": [
        "ratings.shape"
      ],
      "id": "jQPeupgg3Q2H",
      "execution_count": 10,
      "outputs": [
        {
          "output_type": "execute_result",
          "data": {
            "text/plain": [
              "(100836, 4)"
            ]
          },
          "metadata": {
            "tags": []
          },
          "execution_count": 10
        }
      ]
    },
    {
      "cell_type": "markdown",
      "metadata": {
        "id": "99304b05-d750-42f1-85b1-e48ec94b59b6"
      },
      "source": [
        "Now, define a function ratingsForUser that takes a user id and returns all the entries from the ratings table for that user."
      ],
      "id": "99304b05-d750-42f1-85b1-e48ec94b59b6"
    },
    {
      "cell_type": "code",
      "metadata": {
        "colab": {
          "base_uri": "https://localhost:8080/",
          "height": 424
        },
        "id": "9fa23ccf-b29b-4b3b-8ffc-d802fb8f41bb",
        "outputId": "045bad09-5ac1-4f7f-ceef-93a863d5c1ff"
      },
      "source": [
        "# again, another function to find some data\n",
        "def ratings_for_user(uid):\n",
        "  return ratings[ratings.userId == uid]\n",
        "\n",
        "ratings_for_user(20)"
      ],
      "id": "9fa23ccf-b29b-4b3b-8ffc-d802fb8f41bb",
      "execution_count": 11,
      "outputs": [
        {
          "output_type": "execute_result",
          "data": {
            "text/html": [
              "<div>\n",
              "<style scoped>\n",
              "    .dataframe tbody tr th:only-of-type {\n",
              "        vertical-align: middle;\n",
              "    }\n",
              "\n",
              "    .dataframe tbody tr th {\n",
              "        vertical-align: top;\n",
              "    }\n",
              "\n",
              "    .dataframe thead th {\n",
              "        text-align: right;\n",
              "    }\n",
              "</style>\n",
              "<table border=\"1\" class=\"dataframe\">\n",
              "  <thead>\n",
              "    <tr style=\"text-align: right;\">\n",
              "      <th></th>\n",
              "      <th>userId</th>\n",
              "      <th>movieId</th>\n",
              "      <th>rating</th>\n",
              "      <th>timestamp</th>\n",
              "    </tr>\n",
              "  </thead>\n",
              "  <tbody>\n",
              "    <tr>\n",
              "      <th>2977</th>\n",
              "      <td>20</td>\n",
              "      <td>2</td>\n",
              "      <td>3.0</td>\n",
              "      <td>2003-05-27 12:25:13</td>\n",
              "    </tr>\n",
              "    <tr>\n",
              "      <th>2978</th>\n",
              "      <td>20</td>\n",
              "      <td>8</td>\n",
              "      <td>1.0</td>\n",
              "      <td>2003-05-27 12:27:02</td>\n",
              "    </tr>\n",
              "    <tr>\n",
              "      <th>2979</th>\n",
              "      <td>20</td>\n",
              "      <td>13</td>\n",
              "      <td>4.0</td>\n",
              "      <td>2003-05-27 12:27:05</td>\n",
              "    </tr>\n",
              "    <tr>\n",
              "      <th>2980</th>\n",
              "      <td>20</td>\n",
              "      <td>34</td>\n",
              "      <td>4.0</td>\n",
              "      <td>2003-05-27 12:21:33</td>\n",
              "    </tr>\n",
              "    <tr>\n",
              "      <th>2981</th>\n",
              "      <td>20</td>\n",
              "      <td>48</td>\n",
              "      <td>5.0</td>\n",
              "      <td>2003-05-27 12:25:57</td>\n",
              "    </tr>\n",
              "    <tr>\n",
              "      <th>...</th>\n",
              "      <td>...</td>\n",
              "      <td>...</td>\n",
              "      <td>...</td>\n",
              "      <td>...</td>\n",
              "    </tr>\n",
              "    <tr>\n",
              "      <th>3214</th>\n",
              "      <td>20</td>\n",
              "      <td>6297</td>\n",
              "      <td>4.0</td>\n",
              "      <td>2003-05-27 11:57:50</td>\n",
              "    </tr>\n",
              "    <tr>\n",
              "      <th>3215</th>\n",
              "      <td>20</td>\n",
              "      <td>6333</td>\n",
              "      <td>4.0</td>\n",
              "      <td>2003-05-27 11:56:56</td>\n",
              "    </tr>\n",
              "    <tr>\n",
              "      <th>3216</th>\n",
              "      <td>20</td>\n",
              "      <td>6345</td>\n",
              "      <td>5.0</td>\n",
              "      <td>2003-05-27 11:57:03</td>\n",
              "    </tr>\n",
              "    <tr>\n",
              "      <th>3217</th>\n",
              "      <td>20</td>\n",
              "      <td>6358</td>\n",
              "      <td>3.5</td>\n",
              "      <td>2003-05-28 18:45:05</td>\n",
              "    </tr>\n",
              "    <tr>\n",
              "      <th>3218</th>\n",
              "      <td>20</td>\n",
              "      <td>6365</td>\n",
              "      <td>4.0</td>\n",
              "      <td>2003-05-28 18:39:27</td>\n",
              "    </tr>\n",
              "  </tbody>\n",
              "</table>\n",
              "<p>242 rows × 4 columns</p>\n",
              "</div>"
            ],
            "text/plain": [
              "      userId  movieId  rating           timestamp\n",
              "2977      20        2     3.0 2003-05-27 12:25:13\n",
              "2978      20        8     1.0 2003-05-27 12:27:02\n",
              "2979      20       13     4.0 2003-05-27 12:27:05\n",
              "2980      20       34     4.0 2003-05-27 12:21:33\n",
              "2981      20       48     5.0 2003-05-27 12:25:57\n",
              "...      ...      ...     ...                 ...\n",
              "3214      20     6297     4.0 2003-05-27 11:57:50\n",
              "3215      20     6333     4.0 2003-05-27 11:56:56\n",
              "3216      20     6345     5.0 2003-05-27 11:57:03\n",
              "3217      20     6358     3.5 2003-05-28 18:45:05\n",
              "3218      20     6365     4.0 2003-05-28 18:39:27\n",
              "\n",
              "[242 rows x 4 columns]"
            ]
          },
          "metadata": {
            "tags": []
          },
          "execution_count": 11
        }
      ]
    },
    {
      "cell_type": "markdown",
      "metadata": {
        "id": "40f30345-db31-4151-9924-70a425d6a91b"
      },
      "source": [
        "Let's do some data exploration. Compute the number of ratings per user and plot the histogram. Hint, use the [groupby](https://pandas.pydata.org/pandas-docs/stable/reference/api/pandas.DataFrame.groupby.html) function from pandas. "
      ],
      "id": "40f30345-db31-4151-9924-70a425d6a91b"
    },
    {
      "cell_type": "code",
      "metadata": {
        "colab": {
          "base_uri": "https://localhost:8080/",
          "height": 455
        },
        "id": "defce79a-68f1-4c0a-91f0-2e01efbbefda",
        "outputId": "f87ddd58-c71e-4f48-99b7-ea1db09d9247"
      },
      "source": [
        "# compute a histogram of number of ratings.\n",
        "def number_of_ratings_per_user():\n",
        "  return ratings.groupby(by=['userId'], \n",
        "                         axis=0,\n",
        "                         as_index=True, \n",
        "                         sort=True,\n",
        "                         dropna=True).agg(\n",
        "                             number_of_ratings=pd.NamedAgg(column='movieId', aggfunc='count')\n",
        "                         )\n",
        "\n",
        "nr_of_ratings = number_of_ratings_per_user()\n",
        "nr_of_ratings"
      ],
      "id": "defce79a-68f1-4c0a-91f0-2e01efbbefda",
      "execution_count": 12,
      "outputs": [
        {
          "output_type": "execute_result",
          "data": {
            "text/html": [
              "<div>\n",
              "<style scoped>\n",
              "    .dataframe tbody tr th:only-of-type {\n",
              "        vertical-align: middle;\n",
              "    }\n",
              "\n",
              "    .dataframe tbody tr th {\n",
              "        vertical-align: top;\n",
              "    }\n",
              "\n",
              "    .dataframe thead th {\n",
              "        text-align: right;\n",
              "    }\n",
              "</style>\n",
              "<table border=\"1\" class=\"dataframe\">\n",
              "  <thead>\n",
              "    <tr style=\"text-align: right;\">\n",
              "      <th></th>\n",
              "      <th>number_of_ratings</th>\n",
              "    </tr>\n",
              "    <tr>\n",
              "      <th>userId</th>\n",
              "      <th></th>\n",
              "    </tr>\n",
              "  </thead>\n",
              "  <tbody>\n",
              "    <tr>\n",
              "      <th>1</th>\n",
              "      <td>232</td>\n",
              "    </tr>\n",
              "    <tr>\n",
              "      <th>2</th>\n",
              "      <td>29</td>\n",
              "    </tr>\n",
              "    <tr>\n",
              "      <th>3</th>\n",
              "      <td>39</td>\n",
              "    </tr>\n",
              "    <tr>\n",
              "      <th>4</th>\n",
              "      <td>216</td>\n",
              "    </tr>\n",
              "    <tr>\n",
              "      <th>5</th>\n",
              "      <td>44</td>\n",
              "    </tr>\n",
              "    <tr>\n",
              "      <th>...</th>\n",
              "      <td>...</td>\n",
              "    </tr>\n",
              "    <tr>\n",
              "      <th>606</th>\n",
              "      <td>1115</td>\n",
              "    </tr>\n",
              "    <tr>\n",
              "      <th>607</th>\n",
              "      <td>187</td>\n",
              "    </tr>\n",
              "    <tr>\n",
              "      <th>608</th>\n",
              "      <td>831</td>\n",
              "    </tr>\n",
              "    <tr>\n",
              "      <th>609</th>\n",
              "      <td>37</td>\n",
              "    </tr>\n",
              "    <tr>\n",
              "      <th>610</th>\n",
              "      <td>1302</td>\n",
              "    </tr>\n",
              "  </tbody>\n",
              "</table>\n",
              "<p>610 rows × 1 columns</p>\n",
              "</div>"
            ],
            "text/plain": [
              "        number_of_ratings\n",
              "userId                   \n",
              "1                     232\n",
              "2                      29\n",
              "3                      39\n",
              "4                     216\n",
              "5                      44\n",
              "...                   ...\n",
              "606                  1115\n",
              "607                   187\n",
              "608                   831\n",
              "609                    37\n",
              "610                  1302\n",
              "\n",
              "[610 rows x 1 columns]"
            ]
          },
          "metadata": {
            "tags": []
          },
          "execution_count": 12
        }
      ]
    },
    {
      "cell_type": "code",
      "metadata": {
        "colab": {
          "base_uri": "https://localhost:8080/",
          "height": 49
        },
        "id": "9zmiy3wY-lsS",
        "outputId": "42cafb09-e34d-4e58-d2f9-f4901f8cbb3e"
      },
      "source": [
        "ratings[ratings['rating'].isna()]"
      ],
      "id": "9zmiy3wY-lsS",
      "execution_count": 36,
      "outputs": [
        {
          "output_type": "execute_result",
          "data": {
            "text/html": [
              "<div>\n",
              "<style scoped>\n",
              "    .dataframe tbody tr th:only-of-type {\n",
              "        vertical-align: middle;\n",
              "    }\n",
              "\n",
              "    .dataframe tbody tr th {\n",
              "        vertical-align: top;\n",
              "    }\n",
              "\n",
              "    .dataframe thead th {\n",
              "        text-align: right;\n",
              "    }\n",
              "</style>\n",
              "<table border=\"1\" class=\"dataframe\">\n",
              "  <thead>\n",
              "    <tr style=\"text-align: right;\">\n",
              "      <th></th>\n",
              "      <th>userId</th>\n",
              "      <th>movieId</th>\n",
              "      <th>rating</th>\n",
              "      <th>timestamp</th>\n",
              "    </tr>\n",
              "  </thead>\n",
              "  <tbody>\n",
              "  </tbody>\n",
              "</table>\n",
              "</div>"
            ],
            "text/plain": [
              "Empty DataFrame\n",
              "Columns: [userId, movieId, rating, timestamp]\n",
              "Index: []"
            ]
          },
          "metadata": {
            "tags": []
          },
          "execution_count": 36
        }
      ]
    },
    {
      "cell_type": "code",
      "metadata": {
        "colab": {
          "base_uri": "https://localhost:8080/",
          "height": 305
        },
        "id": "amej5fYg--JS",
        "outputId": "9857b9c1-e0bc-4c0c-e871-8e9e507165dc"
      },
      "source": [
        "nr_of_ratings.plot.bar()\n"
      ],
      "id": "amej5fYg--JS",
      "execution_count": 13,
      "outputs": [
        {
          "output_type": "execute_result",
          "data": {
            "text/plain": [
              "<matplotlib.axes._subplots.AxesSubplot at 0x7f8a84ae0e90>"
            ]
          },
          "metadata": {
            "tags": []
          },
          "execution_count": 13
        },
        {
          "output_type": "display_data",
          "data": {
            "image/png": "[encoded data removed]",
            "text/plain": [
              "<Figure size 432x288 with 1 Axes>"
            ]
          },
          "metadata": {
            "tags": [],
            "needs_background": "light"
          }
        }
      ]
    },
    {
      "cell_type": "markdown",
      "metadata": {
        "id": "ac53b4c3-5d23-4048-a3db-64d328a6b114"
      },
      "source": [
        "This data set looks highly skewed as often the case. Most users have only a small number of ratings. What is the minimum number of ratings in the data set?"
      ],
      "id": "ac53b4c3-5d23-4048-a3db-64d328a6b114"
    },
    {
      "cell_type": "code",
      "metadata": {
        "id": "870e88c0-5ac0-4760-a02f-660f8c4da14a",
        "colab": {
          "base_uri": "https://localhost:8080/"
        },
        "outputId": "447b1176-ba8b-47ba-a3bc-c5d1db389f0d"
      },
      "source": [
        "nr_of_ratings.min()"
      ],
      "id": "870e88c0-5ac0-4760-a02f-660f8c4da14a",
      "execution_count": 14,
      "outputs": [
        {
          "output_type": "execute_result",
          "data": {
            "text/plain": [
              "number_of_ratings    20\n",
              "dtype: int64"
            ]
          },
          "metadata": {
            "tags": []
          },
          "execution_count": 14
        }
      ]
    },
    {
      "cell_type": "markdown",
      "metadata": {
        "id": "b5b7088c-7b1f-4f86-bed9-011ed63be1fe"
      },
      "source": [
        "What is the movie with the most views?"
      ],
      "id": "b5b7088c-7b1f-4f86-bed9-011ed63be1fe"
    },
    {
      "cell_type": "code",
      "metadata": {
        "id": "b996671f-15e6-4814-bd94-c1b43247e2f8",
        "colab": {
          "base_uri": "https://localhost:8080/",
          "height": 112
        },
        "outputId": "739e57f2-8b07-4b0c-cbb5-8eee58e20721"
      },
      "source": [
        "def number_of_ratings_per_movie():\n",
        "   return ratings.groupby(by=['movieId'], \n",
        "                         axis=0,\n",
        "                         as_index=True, \n",
        "                         sort=True,\n",
        "                         dropna=True).agg(\n",
        "                             number_of_ratings=pd.NamedAgg(column='movieId', aggfunc='count')\n",
        "                         )\n",
        "\n",
        "number_of_ratings_per_movie_ = number_of_ratings_per_movie()\n",
        "number_of_ratings_per_movie_\n",
        "number_of_ratings_per_movie_[number_of_ratings_per_movie_.number_of_ratings == number_of_ratings_per_movie_.number_of_ratings.max()]"
      ],
      "id": "b996671f-15e6-4814-bd94-c1b43247e2f8",
      "execution_count": 25,
      "outputs": [
        {
          "output_type": "execute_result",
          "data": {
            "text/html": [
              "<div>\n",
              "<style scoped>\n",
              "    .dataframe tbody tr th:only-of-type {\n",
              "        vertical-align: middle;\n",
              "    }\n",
              "\n",
              "    .dataframe tbody tr th {\n",
              "        vertical-align: top;\n",
              "    }\n",
              "\n",
              "    .dataframe thead th {\n",
              "        text-align: right;\n",
              "    }\n",
              "</style>\n",
              "<table border=\"1\" class=\"dataframe\">\n",
              "  <thead>\n",
              "    <tr style=\"text-align: right;\">\n",
              "      <th></th>\n",
              "      <th>number_of_ratings</th>\n",
              "    </tr>\n",
              "    <tr>\n",
              "      <th>movieId</th>\n",
              "      <th></th>\n",
              "    </tr>\n",
              "  </thead>\n",
              "  <tbody>\n",
              "    <tr>\n",
              "      <th>356</th>\n",
              "      <td>329</td>\n",
              "    </tr>\n",
              "  </tbody>\n",
              "</table>\n",
              "</div>"
            ],
            "text/plain": [
              "         number_of_ratings\n",
              "movieId                   \n",
              "356                    329"
            ]
          },
          "metadata": {
            "tags": []
          },
          "execution_count": 25
        }
      ]
    },
    {
      "cell_type": "markdown",
      "metadata": {
        "id": "80fa24a5-ff27-4df8-bf14-db58e0f57ff4"
      },
      "source": [
        "This is a all not very informative. Try joining the movies data to this result set so that you can see the title and the other columns as well. (Hint: you need to use the 'on=' keyword int he join function)"
      ],
      "id": "80fa24a5-ff27-4df8-bf14-db58e0f57ff4"
    },
    {
      "cell_type": "code",
      "metadata": {
        "id": "6a229651-700d-4b0b-873c-023deebd9f7b",
        "colab": {
          "base_uri": "https://localhost:8080/",
          "height": 455
        },
        "outputId": "de87c1bf-f436-4428-b19c-6b26fad8f86c"
      },
      "source": [
        "movies_extended = movies.join(number_of_ratings_per_movie_, on='movieId')\n",
        "movies_extended.join(ratings, on='movieId')\n",
        "movies_extended"
      ],
      "id": "6a229651-700d-4b0b-873c-023deebd9f7b",
      "execution_count": 39,
      "outputs": [
        {
          "output_type": "execute_result",
          "data": {
            "text/html": [
              "<div>\n",
              "<style scoped>\n",
              "    .dataframe tbody tr th:only-of-type {\n",
              "        vertical-align: middle;\n",
              "    }\n",
              "\n",
              "    .dataframe tbody tr th {\n",
              "        vertical-align: top;\n",
              "    }\n",
              "\n",
              "    .dataframe thead th {\n",
              "        text-align: right;\n",
              "    }\n",
              "</style>\n",
              "<table border=\"1\" class=\"dataframe\">\n",
              "  <thead>\n",
              "    <tr style=\"text-align: right;\">\n",
              "      <th></th>\n",
              "      <th>title</th>\n",
              "      <th>genres</th>\n",
              "      <th>number_of_ratings</th>\n",
              "    </tr>\n",
              "    <tr>\n",
              "      <th>movieId</th>\n",
              "      <th></th>\n",
              "      <th></th>\n",
              "      <th></th>\n",
              "    </tr>\n",
              "  </thead>\n",
              "  <tbody>\n",
              "    <tr>\n",
              "      <th>1</th>\n",
              "      <td>Toy Story (1995)</td>\n",
              "      <td>Adventure|Animation|Children|Comedy|Fantasy</td>\n",
              "      <td>215.0</td>\n",
              "    </tr>\n",
              "    <tr>\n",
              "      <th>2</th>\n",
              "      <td>Jumanji (1995)</td>\n",
              "      <td>Adventure|Children|Fantasy</td>\n",
              "      <td>110.0</td>\n",
              "    </tr>\n",
              "    <tr>\n",
              "      <th>3</th>\n",
              "      <td>Grumpier Old Men (1995)</td>\n",
              "      <td>Comedy|Romance</td>\n",
              "      <td>52.0</td>\n",
              "    </tr>\n",
              "    <tr>\n",
              "      <th>4</th>\n",
              "      <td>Waiting to Exhale (1995)</td>\n",
              "      <td>Comedy|Drama|Romance</td>\n",
              "      <td>7.0</td>\n",
              "    </tr>\n",
              "    <tr>\n",
              "      <th>5</th>\n",
              "      <td>Father of the Bride Part II (1995)</td>\n",
              "      <td>Comedy</td>\n",
              "      <td>49.0</td>\n",
              "    </tr>\n",
              "    <tr>\n",
              "      <th>...</th>\n",
              "      <td>...</td>\n",
              "      <td>...</td>\n",
              "      <td>...</td>\n",
              "    </tr>\n",
              "    <tr>\n",
              "      <th>193581</th>\n",
              "      <td>Black Butler: Book of the Atlantic (2017)</td>\n",
              "      <td>Action|Animation|Comedy|Fantasy</td>\n",
              "      <td>1.0</td>\n",
              "    </tr>\n",
              "    <tr>\n",
              "      <th>193583</th>\n",
              "      <td>No Game No Life: Zero (2017)</td>\n",
              "      <td>Animation|Comedy|Fantasy</td>\n",
              "      <td>1.0</td>\n",
              "    </tr>\n",
              "    <tr>\n",
              "      <th>193585</th>\n",
              "      <td>Flint (2017)</td>\n",
              "      <td>Drama</td>\n",
              "      <td>1.0</td>\n",
              "    </tr>\n",
              "    <tr>\n",
              "      <th>193587</th>\n",
              "      <td>Bungo Stray Dogs: Dead Apple (2018)</td>\n",
              "      <td>Action|Animation</td>\n",
              "      <td>1.0</td>\n",
              "    </tr>\n",
              "    <tr>\n",
              "      <th>193609</th>\n",
              "      <td>Andrew Dice Clay: Dice Rules (1991)</td>\n",
              "      <td>Comedy</td>\n",
              "      <td>1.0</td>\n",
              "    </tr>\n",
              "  </tbody>\n",
              "</table>\n",
              "<p>9742 rows × 3 columns</p>\n",
              "</div>"
            ],
            "text/plain": [
              "                                             title  ... number_of_ratings\n",
              "movieId                                             ...                  \n",
              "1                                 Toy Story (1995)  ...             215.0\n",
              "2                                   Jumanji (1995)  ...             110.0\n",
              "3                          Grumpier Old Men (1995)  ...              52.0\n",
              "4                         Waiting to Exhale (1995)  ...               7.0\n",
              "5               Father of the Bride Part II (1995)  ...              49.0\n",
              "...                                            ...  ...               ...\n",
              "193581   Black Butler: Book of the Atlantic (2017)  ...               1.0\n",
              "193583                No Game No Life: Zero (2017)  ...               1.0\n",
              "193585                                Flint (2017)  ...               1.0\n",
              "193587         Bungo Stray Dogs: Dead Apple (2018)  ...               1.0\n",
              "193609         Andrew Dice Clay: Dice Rules (1991)  ...               1.0\n",
              "\n",
              "[9742 rows x 3 columns]"
            ]
          },
          "metadata": {
            "tags": []
          },
          "execution_count": 39
        }
      ]
    },
    {
      "cell_type": "markdown",
      "metadata": {
        "id": "3d1d121b-8f21-4129-9770-337057daf865"
      },
      "source": [
        "Likewise, what's the best rated movie of all times?"
      ],
      "id": "3d1d121b-8f21-4129-9770-337057daf865"
    },
    {
      "cell_type": "code",
      "metadata": {
        "id": "2329c488-6f35-4717-abc7-a08edc313291"
      },
      "source": [
        "ratings_extended_on_movieId = ratings[['movieId', 'rating']].groupby(by=['movieId']).agg({'rating': ['mean', 'max', 'min']})"
      ],
      "id": "2329c488-6f35-4717-abc7-a08edc313291",
      "execution_count": 48,
      "outputs": []
    },
    {
      "cell_type": "code",
      "metadata": {
        "colab": {
          "base_uri": "https://localhost:8080/"
        },
        "id": "ijSpsMPhCzVN",
        "outputId": "31268bb8-dacb-45fa-a2a7-27b821d7fe30"
      },
      "source": [
        "movies_extended2 = movies_extended.join(ratings_extended_on_movieId, on='movieId')"
      ],
      "id": "ijSpsMPhCzVN",
      "execution_count": 50,
      "outputs": [
        {
          "output_type": "stream",
          "text": [
            "/usr/local/lib/python3.7/dist-packages/pandas/core/reshape/merge.py:643: UserWarning: merging between different levels can give an unintended result (1 levels on the left,2 on the right)\n",
            "  warnings.warn(msg, UserWarning)\n"
          ],
          "name": "stderr"
        }
      ]
    },
    {
      "cell_type": "code",
      "metadata": {
        "colab": {
          "base_uri": "https://localhost:8080/",
          "height": 455
        },
        "id": "UEgTKtmtEIfq",
        "outputId": "324da8ce-3382-4beb-9d16-c05f5e16de5e"
      },
      "source": [
        "movies_extended2[movies_extended2[('rating', 'mean')] == movies_extended2[('rating', 'mean')].max()]"
      ],
      "id": "UEgTKtmtEIfq",
      "execution_count": 57,
      "outputs": [
        {
          "output_type": "execute_result",
          "data": {
            "text/html": [
              "<div>\n",
              "<style scoped>\n",
              "    .dataframe tbody tr th:only-of-type {\n",
              "        vertical-align: middle;\n",
              "    }\n",
              "\n",
              "    .dataframe tbody tr th {\n",
              "        vertical-align: top;\n",
              "    }\n",
              "\n",
              "    .dataframe thead th {\n",
              "        text-align: right;\n",
              "    }\n",
              "</style>\n",
              "<table border=\"1\" class=\"dataframe\">\n",
              "  <thead>\n",
              "    <tr style=\"text-align: right;\">\n",
              "      <th></th>\n",
              "      <th>title</th>\n",
              "      <th>genres</th>\n",
              "      <th>number_of_ratings</th>\n",
              "      <th>(rating, mean)</th>\n",
              "      <th>(rating, max)</th>\n",
              "      <th>(rating, min)</th>\n",
              "    </tr>\n",
              "    <tr>\n",
              "      <th>movieId</th>\n",
              "      <th></th>\n",
              "      <th></th>\n",
              "      <th></th>\n",
              "      <th></th>\n",
              "      <th></th>\n",
              "      <th></th>\n",
              "    </tr>\n",
              "  </thead>\n",
              "  <tbody>\n",
              "    <tr>\n",
              "      <th>53</th>\n",
              "      <td>Lamerica (1994)</td>\n",
              "      <td>Adventure|Drama</td>\n",
              "      <td>2.0</td>\n",
              "      <td>5.0</td>\n",
              "      <td>5.0</td>\n",
              "      <td>5.0</td>\n",
              "    </tr>\n",
              "    <tr>\n",
              "      <th>99</th>\n",
              "      <td>Heidi Fleiss: Hollywood Madam (1995)</td>\n",
              "      <td>Documentary</td>\n",
              "      <td>2.0</td>\n",
              "      <td>5.0</td>\n",
              "      <td>5.0</td>\n",
              "      <td>5.0</td>\n",
              "    </tr>\n",
              "    <tr>\n",
              "      <th>148</th>\n",
              "      <td>Awfully Big Adventure, An (1995)</td>\n",
              "      <td>Drama</td>\n",
              "      <td>1.0</td>\n",
              "      <td>5.0</td>\n",
              "      <td>5.0</td>\n",
              "      <td>5.0</td>\n",
              "    </tr>\n",
              "    <tr>\n",
              "      <th>467</th>\n",
              "      <td>Live Nude Girls (1995)</td>\n",
              "      <td>Comedy</td>\n",
              "      <td>1.0</td>\n",
              "      <td>5.0</td>\n",
              "      <td>5.0</td>\n",
              "      <td>5.0</td>\n",
              "    </tr>\n",
              "    <tr>\n",
              "      <th>495</th>\n",
              "      <td>In the Realm of the Senses (Ai no corrida) (1976)</td>\n",
              "      <td>Drama</td>\n",
              "      <td>1.0</td>\n",
              "      <td>5.0</td>\n",
              "      <td>5.0</td>\n",
              "      <td>5.0</td>\n",
              "    </tr>\n",
              "    <tr>\n",
              "      <th>...</th>\n",
              "      <td>...</td>\n",
              "      <td>...</td>\n",
              "      <td>...</td>\n",
              "      <td>...</td>\n",
              "      <td>...</td>\n",
              "      <td>...</td>\n",
              "    </tr>\n",
              "    <tr>\n",
              "      <th>176601</th>\n",
              "      <td>Black Mirror</td>\n",
              "      <td>(no genres listed)</td>\n",
              "      <td>1.0</td>\n",
              "      <td>5.0</td>\n",
              "      <td>5.0</td>\n",
              "      <td>5.0</td>\n",
              "    </tr>\n",
              "    <tr>\n",
              "      <th>179133</th>\n",
              "      <td>Loving Vincent (2017)</td>\n",
              "      <td>Animation|Crime|Drama</td>\n",
              "      <td>1.0</td>\n",
              "      <td>5.0</td>\n",
              "      <td>5.0</td>\n",
              "      <td>5.0</td>\n",
              "    </tr>\n",
              "    <tr>\n",
              "      <th>179135</th>\n",
              "      <td>Blue Planet II (2017)</td>\n",
              "      <td>Documentary</td>\n",
              "      <td>1.0</td>\n",
              "      <td>5.0</td>\n",
              "      <td>5.0</td>\n",
              "      <td>5.0</td>\n",
              "    </tr>\n",
              "    <tr>\n",
              "      <th>184245</th>\n",
              "      <td>De platte jungle (1978)</td>\n",
              "      <td>Documentary</td>\n",
              "      <td>1.0</td>\n",
              "      <td>5.0</td>\n",
              "      <td>5.0</td>\n",
              "      <td>5.0</td>\n",
              "    </tr>\n",
              "    <tr>\n",
              "      <th>187717</th>\n",
              "      <td>Won't You Be My Neighbor? (2018)</td>\n",
              "      <td>Documentary</td>\n",
              "      <td>1.0</td>\n",
              "      <td>5.0</td>\n",
              "      <td>5.0</td>\n",
              "      <td>5.0</td>\n",
              "    </tr>\n",
              "  </tbody>\n",
              "</table>\n",
              "<p>296 rows × 6 columns</p>\n",
              "</div>"
            ],
            "text/plain": [
              "                                                     title  ... (rating, min)\n",
              "movieId                                                     ...              \n",
              "53                                         Lamerica (1994)  ...           5.0\n",
              "99                    Heidi Fleiss: Hollywood Madam (1995)  ...           5.0\n",
              "148                       Awfully Big Adventure, An (1995)  ...           5.0\n",
              "467                                 Live Nude Girls (1995)  ...           5.0\n",
              "495      In the Realm of the Senses (Ai no corrida) (1976)  ...           5.0\n",
              "...                                                    ...  ...           ...\n",
              "176601                                        Black Mirror  ...           5.0\n",
              "179133                               Loving Vincent (2017)  ...           5.0\n",
              "179135                               Blue Planet II (2017)  ...           5.0\n",
              "184245                             De platte jungle (1978)  ...           5.0\n",
              "187717                    Won't You Be My Neighbor? (2018)  ...           5.0\n",
              "\n",
              "[296 rows x 6 columns]"
            ]
          },
          "metadata": {
            "tags": []
          },
          "execution_count": 57
        }
      ]
    },
    {
      "cell_type": "code",
      "metadata": {
        "id": "B4Stj8H5FAVF"
      },
      "source": [
        ""
      ],
      "id": "B4Stj8H5FAVF",
      "execution_count": 60,
      "outputs": []
    },
    {
      "cell_type": "markdown",
      "metadata": {
        "id": "bbcc99bc-0c44-43ec-9594-7c9c26d24b4e"
      },
      "source": [
        "The top seems to be movies with very few ratings, only look at movies that have twenty or more ratings."
      ],
      "id": "bbcc99bc-0c44-43ec-9594-7c9c26d24b4e"
    },
    {
      "cell_type": "code",
      "metadata": {
        "id": "1fb4020c-0553-44fc-93c3-5d0df2adb83e",
        "colab": {
          "base_uri": "https://localhost:8080/",
          "height": 112
        },
        "outputId": "0d078ece-11b6-41c0-db09-ec4c358c327d"
      },
      "source": [
        "movies_xattr_suff = movies_extended2[movies_extended2.number_of_ratings >= 20]\n",
        "movies_xattr_suff[movies_xattr_suff[('rating', 'mean')] == movies_xattr_suff[('rating', 'mean')].max()]\n"
      ],
      "id": "1fb4020c-0553-44fc-93c3-5d0df2adb83e",
      "execution_count": 64,
      "outputs": [
        {
          "output_type": "execute_result",
          "data": {
            "text/html": [
              "<div>\n",
              "<style scoped>\n",
              "    .dataframe tbody tr th:only-of-type {\n",
              "        vertical-align: middle;\n",
              "    }\n",
              "\n",
              "    .dataframe tbody tr th {\n",
              "        vertical-align: top;\n",
              "    }\n",
              "\n",
              "    .dataframe thead th {\n",
              "        text-align: right;\n",
              "    }\n",
              "</style>\n",
              "<table border=\"1\" class=\"dataframe\">\n",
              "  <thead>\n",
              "    <tr style=\"text-align: right;\">\n",
              "      <th></th>\n",
              "      <th>title</th>\n",
              "      <th>genres</th>\n",
              "      <th>number_of_ratings</th>\n",
              "      <th>(rating, mean)</th>\n",
              "      <th>(rating, max)</th>\n",
              "      <th>(rating, min)</th>\n",
              "    </tr>\n",
              "    <tr>\n",
              "      <th>movieId</th>\n",
              "      <th></th>\n",
              "      <th></th>\n",
              "      <th></th>\n",
              "      <th></th>\n",
              "      <th></th>\n",
              "      <th></th>\n",
              "    </tr>\n",
              "  </thead>\n",
              "  <tbody>\n",
              "    <tr>\n",
              "      <th>1104</th>\n",
              "      <td>Streetcar Named Desire, A (1951)</td>\n",
              "      <td>Drama</td>\n",
              "      <td>20.0</td>\n",
              "      <td>4.475</td>\n",
              "      <td>5.0</td>\n",
              "      <td>3.0</td>\n",
              "    </tr>\n",
              "  </tbody>\n",
              "</table>\n",
              "</div>"
            ],
            "text/plain": [
              "                                    title genres  ...  (rating, max)  (rating, min)\n",
              "movieId                                           ...                              \n",
              "1104     Streetcar Named Desire, A (1951)  Drama  ...            5.0            3.0\n",
              "\n",
              "[1 rows x 6 columns]"
            ]
          },
          "metadata": {
            "tags": []
          },
          "execution_count": 64
        }
      ]
    },
    {
      "cell_type": "markdown",
      "metadata": {
        "id": "3df7e69c-9f25-4d82-8b76-14f92cde6bf5"
      },
      "source": [
        "# Toy data\n",
        "\n",
        "Before we go into working on collaborative filtering, let's define a toy data set. This is generally good practice if you are working with real-world data sets. Toy data is smaller and you can work faster, but you can also design it in a way that you know the outcome."
      ],
      "id": "3df7e69c-9f25-4d82-8b76-14f92cde6bf5"
    },
    {
      "cell_type": "code",
      "metadata": {
        "id": "bc601f80-3657-45cf-afa8-789d4e71ad21",
        "colab": {
          "base_uri": "https://localhost:8080/",
          "height": 394
        },
        "outputId": "ea407d3b-d6ff-454f-f65a-1d94c934fb6f"
      },
      "source": [
        "toyratings = pd.DataFrame(data={\n",
        "    'userId': [1, 1, 1, 1, 1,\n",
        "              2, 2, 2,\n",
        "              3, 3, 3],\n",
        "    'movieId': [1,2,3,4,8,\n",
        "               1,2,3,\n",
        "               2,3,5],\n",
        "    'rating': [5.0, 4.0, 3.0, 2.0, 1.0,\n",
        "               1.0, 2.0, 3.0,\n",
        "               3.0, 3.0, 3.0],\n",
        "    'timestamp': ['2021-01-01 10:00', '2021-01-02 08:00', '2021-01-03 09:00', '2021-01-04 10:00', '2021-01-05 11:00',\n",
        "                 '2021-01-10 08:00', '2021-01-11 09:00', '2021-01-13 10:00',\n",
        "                '2021-01-07 08:00', '2021-01-09 09:00', '2021-01-11 10:00']\n",
        "                  \n",
        "})\n",
        "toyratings"
      ],
      "id": "bc601f80-3657-45cf-afa8-789d4e71ad21",
      "execution_count": 65,
      "outputs": [
        {
          "output_type": "execute_result",
          "data": {
            "text/html": [
              "<div>\n",
              "<style scoped>\n",
              "    .dataframe tbody tr th:only-of-type {\n",
              "        vertical-align: middle;\n",
              "    }\n",
              "\n",
              "    .dataframe tbody tr th {\n",
              "        vertical-align: top;\n",
              "    }\n",
              "\n",
              "    .dataframe thead th {\n",
              "        text-align: right;\n",
              "    }\n",
              "</style>\n",
              "<table border=\"1\" class=\"dataframe\">\n",
              "  <thead>\n",
              "    <tr style=\"text-align: right;\">\n",
              "      <th></th>\n",
              "      <th>userId</th>\n",
              "      <th>movieId</th>\n",
              "      <th>rating</th>\n",
              "      <th>timestamp</th>\n",
              "    </tr>\n",
              "  </thead>\n",
              "  <tbody>\n",
              "    <tr>\n",
              "      <th>0</th>\n",
              "      <td>1</td>\n",
              "      <td>1</td>\n",
              "      <td>5.0</td>\n",
              "      <td>2021-01-01 10:00</td>\n",
              "    </tr>\n",
              "    <tr>\n",
              "      <th>1</th>\n",
              "      <td>1</td>\n",
              "      <td>2</td>\n",
              "      <td>4.0</td>\n",
              "      <td>2021-01-02 08:00</td>\n",
              "    </tr>\n",
              "    <tr>\n",
              "      <th>2</th>\n",
              "      <td>1</td>\n",
              "      <td>3</td>\n",
              "      <td>3.0</td>\n",
              "      <td>2021-01-03 09:00</td>\n",
              "    </tr>\n",
              "    <tr>\n",
              "      <th>3</th>\n",
              "      <td>1</td>\n",
              "      <td>4</td>\n",
              "      <td>2.0</td>\n",
              "      <td>2021-01-04 10:00</td>\n",
              "    </tr>\n",
              "    <tr>\n",
              "      <th>4</th>\n",
              "      <td>1</td>\n",
              "      <td>8</td>\n",
              "      <td>1.0</td>\n",
              "      <td>2021-01-05 11:00</td>\n",
              "    </tr>\n",
              "    <tr>\n",
              "      <th>5</th>\n",
              "      <td>2</td>\n",
              "      <td>1</td>\n",
              "      <td>1.0</td>\n",
              "      <td>2021-01-10 08:00</td>\n",
              "    </tr>\n",
              "    <tr>\n",
              "      <th>6</th>\n",
              "      <td>2</td>\n",
              "      <td>2</td>\n",
              "      <td>2.0</td>\n",
              "      <td>2021-01-11 09:00</td>\n",
              "    </tr>\n",
              "    <tr>\n",
              "      <th>7</th>\n",
              "      <td>2</td>\n",
              "      <td>3</td>\n",
              "      <td>3.0</td>\n",
              "      <td>2021-01-13 10:00</td>\n",
              "    </tr>\n",
              "    <tr>\n",
              "      <th>8</th>\n",
              "      <td>3</td>\n",
              "      <td>2</td>\n",
              "      <td>3.0</td>\n",
              "      <td>2021-01-07 08:00</td>\n",
              "    </tr>\n",
              "    <tr>\n",
              "      <th>9</th>\n",
              "      <td>3</td>\n",
              "      <td>3</td>\n",
              "      <td>3.0</td>\n",
              "      <td>2021-01-09 09:00</td>\n",
              "    </tr>\n",
              "    <tr>\n",
              "      <th>10</th>\n",
              "      <td>3</td>\n",
              "      <td>5</td>\n",
              "      <td>3.0</td>\n",
              "      <td>2021-01-11 10:00</td>\n",
              "    </tr>\n",
              "  </tbody>\n",
              "</table>\n",
              "</div>"
            ],
            "text/plain": [
              "    userId  movieId  rating         timestamp\n",
              "0        1        1     5.0  2021-01-01 10:00\n",
              "1        1        2     4.0  2021-01-02 08:00\n",
              "2        1        3     3.0  2021-01-03 09:00\n",
              "3        1        4     2.0  2021-01-04 10:00\n",
              "4        1        8     1.0  2021-01-05 11:00\n",
              "5        2        1     1.0  2021-01-10 08:00\n",
              "6        2        2     2.0  2021-01-11 09:00\n",
              "7        2        3     3.0  2021-01-13 10:00\n",
              "8        3        2     3.0  2021-01-07 08:00\n",
              "9        3        3     3.0  2021-01-09 09:00\n",
              "10       3        5     3.0  2021-01-11 10:00"
            ]
          },
          "metadata": {
            "tags": []
          },
          "execution_count": 65
        }
      ]
    },
    {
      "cell_type": "markdown",
      "metadata": {
        "id": "2e9b4b5e-bcee-40d8-9871-1ad799478638"
      },
      "source": [
        "# Collaborative filtering\n",
        "\n",
        "We will now (finally) implement collaborative filtering. For two movies, it looks at the ratings of all users and computes the cosine similarities between these vectors. It might sound simple, but works if you have sufficient amounts of data, and is often a good first version.\n",
        "\n",
        "We're not dealing with this here, but for future reference: It is not personalized, and you don't know how to do recommendations for new items. There are other methods that look at customer events, or take content into account to deal with these kinds of problems. Factorization methods can also help if your data is very sparse.\n",
        "\n",
        "Implement a function that takes the ratings dataframe and returns a dataframe which contains movie to movie similarities. You can convert the dataframe to a numpy array to work with matrix algebra. Try to avoid using explicit for loops."
      ],
      "id": "2e9b4b5e-bcee-40d8-9871-1ad799478638"
    },
    {
      "cell_type": "code",
      "metadata": {
        "id": "9EXmFlvmiJ1j"
      },
      "source": [
        ""
      ],
      "id": "9EXmFlvmiJ1j",
      "execution_count": null,
      "outputs": []
    },
    {
      "cell_type": "code",
      "metadata": {
        "id": "55842a21-5b1e-4bbd-baa0-bd33087216e1",
        "colab": {
          "base_uri": "https://localhost:8080/",
          "height": 443
        },
        "outputId": "feaa7379-75ce-4ef4-a7e2-90c8e79921d9"
      },
      "source": [
        "def collaborative_filtering(ratings):\n",
        "    #return ratings[['userId', 'movieId', 'rating']].set_index('userId').to_numpy()\n",
        "    #sim_df = pd.DataFrame(ratings[['movieId', 'userId', 'rating']])\n",
        "    #return sim_df.set_index(['movieId', 'movieId'])\n",
        "    # TODO: Make sure the are always sorted by userId, then by moviId\n",
        "    nr_of_rows = len(ratings['userId'].unique())\n",
        "    nr_of_columns = len(ratings['movieId'].unique())\n",
        "    print(nr_of_rows, nr_of_columns)\n",
        "    return ratings.set_index(['userId', 'movieId'])[['rating']]\n",
        "\n",
        "collaborative_filtering(toyratings)"
      ],
      "id": "55842a21-5b1e-4bbd-baa0-bd33087216e1",
      "execution_count": 104,
      "outputs": [
        {
          "output_type": "stream",
          "text": [
            "3 6\n"
          ],
          "name": "stdout"
        },
        {
          "output_type": "execute_result",
          "data": {
            "text/html": [
              "<div>\n",
              "<style scoped>\n",
              "    .dataframe tbody tr th:only-of-type {\n",
              "        vertical-align: middle;\n",
              "    }\n",
              "\n",
              "    .dataframe tbody tr th {\n",
              "        vertical-align: top;\n",
              "    }\n",
              "\n",
              "    .dataframe thead th {\n",
              "        text-align: right;\n",
              "    }\n",
              "</style>\n",
              "<table border=\"1\" class=\"dataframe\">\n",
              "  <thead>\n",
              "    <tr style=\"text-align: right;\">\n",
              "      <th></th>\n",
              "      <th></th>\n",
              "      <th>rating</th>\n",
              "    </tr>\n",
              "    <tr>\n",
              "      <th>userId</th>\n",
              "      <th>movieId</th>\n",
              "      <th></th>\n",
              "    </tr>\n",
              "  </thead>\n",
              "  <tbody>\n",
              "    <tr>\n",
              "      <th rowspan=\"5\" valign=\"top\">1</th>\n",
              "      <th>1</th>\n",
              "      <td>5.0</td>\n",
              "    </tr>\n",
              "    <tr>\n",
              "      <th>2</th>\n",
              "      <td>4.0</td>\n",
              "    </tr>\n",
              "    <tr>\n",
              "      <th>3</th>\n",
              "      <td>3.0</td>\n",
              "    </tr>\n",
              "    <tr>\n",
              "      <th>4</th>\n",
              "      <td>2.0</td>\n",
              "    </tr>\n",
              "    <tr>\n",
              "      <th>8</th>\n",
              "      <td>1.0</td>\n",
              "    </tr>\n",
              "    <tr>\n",
              "      <th rowspan=\"3\" valign=\"top\">2</th>\n",
              "      <th>1</th>\n",
              "      <td>1.0</td>\n",
              "    </tr>\n",
              "    <tr>\n",
              "      <th>2</th>\n",
              "      <td>2.0</td>\n",
              "    </tr>\n",
              "    <tr>\n",
              "      <th>3</th>\n",
              "      <td>3.0</td>\n",
              "    </tr>\n",
              "    <tr>\n",
              "      <th rowspan=\"3\" valign=\"top\">3</th>\n",
              "      <th>2</th>\n",
              "      <td>3.0</td>\n",
              "    </tr>\n",
              "    <tr>\n",
              "      <th>3</th>\n",
              "      <td>3.0</td>\n",
              "    </tr>\n",
              "    <tr>\n",
              "      <th>5</th>\n",
              "      <td>3.0</td>\n",
              "    </tr>\n",
              "  </tbody>\n",
              "</table>\n",
              "</div>"
            ],
            "text/plain": [
              "                rating\n",
              "userId movieId        \n",
              "1      1           5.0\n",
              "       2           4.0\n",
              "       3           3.0\n",
              "       4           2.0\n",
              "       8           1.0\n",
              "2      1           1.0\n",
              "       2           2.0\n",
              "       3           3.0\n",
              "3      2           3.0\n",
              "       3           3.0\n",
              "       5           3.0"
            ]
          },
          "metadata": {
            "tags": []
          },
          "execution_count": 104
        }
      ]
    },
    {
      "cell_type": "markdown",
      "metadata": {
        "id": "baf976e1-57ad-46cf-8862-8c15e19e3953"
      },
      "source": [
        "Let's store the result in the _sims_ variable for the full rating data set and in the _ts_ variable for the toyratings."
      ],
      "id": "baf976e1-57ad-46cf-8862-8c15e19e3953"
    },
    {
      "cell_type": "code",
      "metadata": {
        "id": "fd3d9d24-743a-4bc4-a072-056fe2247548",
        "colab": {
          "base_uri": "https://localhost:8080/",
          "height": 237
        },
        "outputId": "fc7114b5-96e7-4bce-bc1c-516c73a90629"
      },
      "source": [
        "sims = collaborative_filtering(ratings)\n",
        "sims\n",
        "\n",
        "ts = collaborative_filtering(toyratings)\n",
        "ts"
      ],
      "id": "fd3d9d24-743a-4bc4-a072-056fe2247548",
      "execution_count": 62,
      "outputs": [
        {
          "output_type": "error",
          "ename": "NameError",
          "evalue": "ignored",
          "traceback": [
            "\u001b[0;31m---------------------------------------------------------------------------\u001b[0m",
            "\u001b[0;31mNameError\u001b[0m                                 Traceback (most recent call last)",
            "\u001b[0;32m<ipython-input-62-8aeec00d2a11>\u001b[0m in \u001b[0;36m<module>\u001b[0;34m()\u001b[0m\n\u001b[0;32m----> 1\u001b[0;31m \u001b[0msims\u001b[0m \u001b[0;34m=\u001b[0m \u001b[0mcollaborative_filtering\u001b[0m\u001b[0;34m(\u001b[0m\u001b[0mratings\u001b[0m\u001b[0;34m)\u001b[0m\u001b[0;34m\u001b[0m\u001b[0;34m\u001b[0m\u001b[0m\n\u001b[0m\u001b[1;32m      2\u001b[0m \u001b[0msims\u001b[0m\u001b[0;34m\u001b[0m\u001b[0;34m\u001b[0m\u001b[0m\n\u001b[1;32m      3\u001b[0m \u001b[0;34m\u001b[0m\u001b[0m\n\u001b[1;32m      4\u001b[0m \u001b[0mts\u001b[0m \u001b[0;34m=\u001b[0m \u001b[0mcollaborative_filtering\u001b[0m\u001b[0;34m(\u001b[0m\u001b[0mtoyratings\u001b[0m\u001b[0;34m)\u001b[0m\u001b[0;34m\u001b[0m\u001b[0;34m\u001b[0m\u001b[0m\n\u001b[1;32m      5\u001b[0m \u001b[0mts\u001b[0m\u001b[0;34m\u001b[0m\u001b[0;34m\u001b[0m\u001b[0m\n",
            "\u001b[0;31mNameError\u001b[0m: name 'collaborative_filtering' is not defined"
          ]
        }
      ]
    },
    {
      "cell_type": "markdown",
      "metadata": {
        "id": "d7cb5ba7-5286-4762-a694-b5cd6292aa9b"
      },
      "source": [
        "For getting recommendations quickly, let create another dataframe where each row is the ids of the recommendations. We get this by sorting the rows of the similarity dataframe.\n",
        "\n",
        "Write a function _allrecos_ that takes the similarity matrix computed by _collaborative_filtering_ and returns another dataframe with the values such that the first column is the movie itself (highest similarity), the second column is the second most similar, and so on..."
      ],
      "id": "d7cb5ba7-5286-4762-a694-b5cd6292aa9b"
    },
    {
      "cell_type": "code",
      "metadata": {
        "id": "724d0c65-3f94-4ee2-ba75-21289d281612"
      },
      "source": [
        "def allrecos(sims):\n",
        "    #TODO\n",
        "\n",
        "recos = allrecos(sims)\n",
        "recos"
      ],
      "id": "724d0c65-3f94-4ee2-ba75-21289d281612",
      "execution_count": null,
      "outputs": []
    },
    {
      "cell_type": "markdown",
      "metadata": {
        "id": "c2a64fd7-0f9c-4397-901e-aa0c8c993e2a"
      },
      "source": [
        "Finally, we define the function getReco that takes the recommendation dataframe, a movie id, and optinally a number of items to recommend and returns a "
      ],
      "id": "c2a64fd7-0f9c-4397-901e-aa0c8c993e2a"
    },
    {
      "cell_type": "code",
      "metadata": {
        "id": "9164756d-8d7e-42ad-8141-a8ef99f85fe5"
      },
      "source": [
        "def getReco(recos, mi, n=10):\n",
        "    # TODO\n",
        "\n",
        "getReco(recos, 1)"
      ],
      "id": "9164756d-8d7e-42ad-8141-a8ef99f85fe5",
      "execution_count": null,
      "outputs": []
    },
    {
      "cell_type": "markdown",
      "metadata": {
        "id": "cc13f84a-e49e-4c70-9ddd-0dcec3f06c77"
      },
      "source": [
        "As we did above, if we join with the movies table we can also see what we're recommending.\n",
        "\n",
        "Write a function `printReco` that takes the recommendation table, a movie id, optionally a number of recommendations to return and joins the information from the movies table to the recommendations. Make it also output the title of the passed movie id.\n",
        "\n",
        "Hint: you can use to_frame(name='movieId') to turn the recommendations into a dataframe that can be joined more easily with the movies dataframe."
      ],
      "id": "cc13f84a-e49e-4c70-9ddd-0dcec3f06c77"
    },
    {
      "cell_type": "code",
      "metadata": {
        "id": "fa93facc-4ef2-436c-aa2f-74e12b72cb2e"
      },
      "source": [
        "def printReco(recos, mi, n=10):\n",
        "    # TODO \n",
        "\n",
        "printReco(recos, 1)"
      ],
      "id": "fa93facc-4ef2-436c-aa2f-74e12b72cb2e",
      "execution_count": null,
      "outputs": []
    },
    {
      "cell_type": "markdown",
      "metadata": {
        "id": "12848a69-2867-4b1d-9f61-bca30e7b32d7"
      },
      "source": [
        "What are the recommendations for the first Matrix movie?"
      ],
      "id": "12848a69-2867-4b1d-9f61-bca30e7b32d7"
    },
    {
      "cell_type": "code",
      "metadata": {
        "id": "f87e161b-dc2a-4650-948e-69f4d4d7f92f"
      },
      "source": [
        "# TODO"
      ],
      "id": "f87e161b-dc2a-4650-948e-69f4d4d7f92f",
      "execution_count": null,
      "outputs": []
    },
    {
      "cell_type": "markdown",
      "metadata": {
        "id": "87c43136-1614-40a5-8779-64a341c15ac2"
      },
      "source": [
        "What are the recommendations to 'When Harry Met Sally'?"
      ],
      "id": "87c43136-1614-40a5-8779-64a341c15ac2"
    },
    {
      "cell_type": "code",
      "metadata": {
        "id": "abfe6c01-0df2-4b3b-b5a8-7ad1fd1817f9"
      },
      "source": [
        "# TODO"
      ],
      "id": "abfe6c01-0df2-4b3b-b5a8-7ad1fd1817f9",
      "execution_count": null,
      "outputs": []
    },
    {
      "cell_type": "markdown",
      "metadata": {
        "id": "44f05b14-845a-4019-8a7b-9be025c4e100"
      },
      "source": [
        "# Now let's compute some metrics\n",
        "\n",
        "As you hopefully saw from the above examples, the algorithm seems to be making more or less sense. However, in practice, you'll want to define some metrics that can objectively measure how well the algorithm works. We're looking at two measures here, views@n and mean reciprocal rank@n.\n",
        "\n",
        "The \"@n\" part measures how many recommendations you want.\n",
        "\n",
        "views@n measure the percentage of recommendations that contained the next movie viewed by a users.\n",
        "\n",
        "mrr@n measures the mean reciprocal rank: you take the position p of the item that has been viewed and take the 1/p and then take the mean over all recommendations.\n",
        "\n",
        "This setting simulates a setting where we would have shown our recommendations after each view and measures whether we were able to recommend something that people viewed.\n",
        "\n",
        "The analysis is very simple and also incorrect strictly speaking because our model has been trained on the views we are using to evaluate. Since the model is very simple, we'll probably not see overfitting."
      ],
      "id": "44f05b14-845a-4019-8a7b-9be025c4e100"
    },
    {
      "cell_type": "markdown",
      "metadata": {
        "id": "b9b65e26-f3fc-4840-9ed2-e3644f095bb2"
      },
      "source": [
        "## Looking at the next recommendation\n",
        "\n",
        "As a first step, we need to collect pairs of movieId and next movieId from the ratings. The ratings table is already sorted by userIds, but the times are bit all over the place. Sort the ratings table first by userId and timestamp.\n",
        "\n",
        "I personally didn't find a good way to do this with pandas operations, so iterate over the whole table. Or try to find a better solutions!\n",
        "\n",
        "The end result should be a dataframe with the columns userId, movieId, nextMovieId, timestamp (of the first view)."
      ],
      "id": "b9b65e26-f3fc-4840-9ed2-e3644f095bb2"
    },
    {
      "cell_type": "code",
      "metadata": {
        "id": "ad41e867-72c8-4e7a-8fe2-eeaa75acb28d"
      },
      "source": [
        "# create a new dataframe with nextMovieId, if that is given in the same session.\n",
        "\n",
        "ratings = ratings.sort_values(...) #TODO\n",
        "\n",
        "nextviews = #TODO"
      ],
      "id": "ad41e867-72c8-4e7a-8fe2-eeaa75acb28d",
      "execution_count": null,
      "outputs": []
    },
    {
      "cell_type": "markdown",
      "metadata": {
        "id": "6c4d96ba-8818-42a1-ae3b-3c8ae0b592c5"
      },
      "source": [
        "## Computing views@n\n",
        "\n",
        "Now implement a function that computes the views@n metric.\n",
        "\n",
        "Hint: Using \"axis=1\" in DataFrame#apply let's you run a function over the rows of a data frame. Define a helper function that gets the recommendations via getReco defined above and checks whether the nextMovieId is in the recommendations or not.\n",
        "\n",
        "What value did you get for different n?"
      ],
      "id": "6c4d96ba-8818-42a1-ae3b-3c8ae0b592c5"
    },
    {
      "cell_type": "code",
      "metadata": {
        "id": "afaee813-d6ff-4b32-b9da-5e4c96514124"
      },
      "source": [
        "def viewsAtN(recos, n):\n",
        "   #TODO\n",
        "\n",
        "viewsAtN(recos, 50)\n"
      ],
      "id": "afaee813-d6ff-4b32-b9da-5e4c96514124",
      "execution_count": null,
      "outputs": []
    },
    {
      "cell_type": "markdown",
      "metadata": {
        "id": "689c93a3-1fee-489b-a398-6091e6e1bb54"
      },
      "source": [
        "## Computing MRR@n\n",
        "\n",
        "Just as above, compute a function that computes the MRR.\n",
        "\n",
        "Hint, if you have a Python list l, you can use l.index(i) to get the index of item i."
      ],
      "id": "689c93a3-1fee-489b-a398-6091e6e1bb54"
    },
    {
      "cell_type": "code",
      "metadata": {
        "id": "dc6ab6a3-85e0-4a07-8bb1-c601cf8132d1"
      },
      "source": [
        "def MRRAtN(recos, n):\n",
        "    #TODO\n",
        "\n",
        "MRRAtN(recos, 50)\n"
      ],
      "id": "dc6ab6a3-85e0-4a07-8bb1-c601cf8132d1",
      "execution_count": null,
      "outputs": []
    },
    {
      "cell_type": "markdown",
      "metadata": {
        "id": "46afb769-510e-4a3e-871e-5946d799c60a"
      },
      "source": [
        "## Congratulations!\n",
        "\n",
        "You did some exploratory analysis on user interaction data, build a simple recommendation model and did some evaluation. These are all steps you would be doing on a data science project.\n",
        "\n",
        "Here are some things you would do in practice:\n",
        "\n",
        "- more properly separate between training and test data.\n",
        "- make the code more modular so you can evaluate arbitrary algorithms.\n",
        "- Look into other methods, e.g. content based filtering. You could for example take the genre data, and suggest the most popular movie from a given genre.\n",
        "- You could look into factorization methods like Alternate Least Squares or versions of non-negative matrix factorization. These are dimension-reduction methods that try to explain the ratings in terms of a smaller number of factors. These \"compress\" data and could help if the data is very sparse.\n",
        "- Productionize the system. It is not uncommon for recommendation systems to compute all recommendations in a batch fashion and then just load the recommended items into a database. No need to run a ML model in production.\n",
        "\n"
      ],
      "id": "46afb769-510e-4a3e-871e-5946d799c60a"
    },
    {
      "cell_type": "code",
      "metadata": {
        "id": "c3589bba-fe85-4231-a15f-41d17af23c39"
      },
      "source": [
        ""
      ],
      "id": "c3589bba-fe85-4231-a15f-41d17af23c39",
      "execution_count": null,
      "outputs": []
    }
  ]
}