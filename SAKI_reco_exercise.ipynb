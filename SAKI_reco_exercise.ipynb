{
  "nbformat": 4,
  "nbformat_minor": 5,
  "metadata": {
    "kernelspec": {
      "display_name": "Python 3",
      "language": "python",
      "name": "python3"
    },
    "language_info": {
      "codemirror_mode": {
        "name": "ipython",
        "version": 3
      },
      "file_extension": ".py",
      "mimetype": "text/x-python",
      "name": "python",
      "nbconvert_exporter": "python",
      "pygments_lexer": "ipython3",
      "version": "3.8.10"
    },
    "colab": {
      "name": "SAKI reco exercise.ipynb",
      "provenance": [],
      "collapsed_sections": [],
      "include_colab_link": true
    }
  },
  "cells": [
    {
      "cell_type": "markdown",
      "metadata": {
        "id": "view-in-github",
        "colab_type": "text"
      },
      "source": [
        "<a href=\"https://colab.research.google.com/github/DOMEscho/saki-recommender-system/blob/main/SAKI_reco_exercise.ipynb\" target=\"_parent\"><img src=\"https://colab.research.google.com/assets/colab-badge.svg\" alt=\"Open In Colab\"/></a>"
      ]
    },
    {
      "cell_type": "markdown",
      "metadata": {
        "id": "375fcebf-05e0-44e1-baf8-abeae6ce3eed"
      },
      "source": [
        "# Recommender system exercises\n",
        "\n",
        "You'll need to install the packages pandas and matplotlib for this exercise.\n",
        "\n",
        "We're working with the movielens data set, the smaller version. This data set contains 100k ratings for 9000 movies from 600 users.\n",
        "\n",
        "We'll have a look at the data, implement collaborative filtering, and look at some typical metrics."
      ],
      "id": "375fcebf-05e0-44e1-baf8-abeae6ce3eed"
    },
    {
      "cell_type": "markdown",
      "metadata": {
        "id": "29c7d75b-fe07-4cef-b289-48740a9789e7"
      },
      "source": [
        "## Getting the data\n",
        "\n",
        "Uncomment the lines in the next box and this will download the files and unzip them in this directory.\n"
      ],
      "id": "29c7d75b-fe07-4cef-b289-48740a9789e7"
    },
    {
      "cell_type": "code",
      "metadata": {
        "colab": {
          "base_uri": "https://localhost:8080/"
        },
        "id": "08325700-5f6c-4c3a-ab60-deed2cbc4504",
        "outputId": "512bc56a-393e-477c-85ab-a4eb1d22e629"
      },
      "source": [
        "# Do this only once!\n",
        "#wget http://files.grouplens.org/datasets/movielens/ml-latest-small.zip\n",
        "#unzip ml-latest-small.zip"
      ],
      "id": "08325700-5f6c-4c3a-ab60-deed2cbc4504",
      "execution_count": 6,
      "outputs": [
        {
          "output_type": "stream",
          "text": [
            "--2021-06-20 19:09:58--  http://files.grouplens.org/datasets/movielens/ml-latest-small.zip\n",
            "Resolving files.grouplens.org (files.grouplens.org)... 128.101.65.152\n",
            "Connecting to files.grouplens.org (files.grouplens.org)|128.101.65.152|:80... connected.\n",
            "HTTP request sent, awaiting response... 200 OK\n",
            "Length: 978202 (955K) [application/zip]\n",
            "Saving to: ‘ml-latest-small.zip’\n",
            "\n",
            "ml-latest-small.zip 100%[===================>] 955.28K  5.73MB/s    in 0.2s    \n",
            "\n",
            "2021-06-20 19:09:58 (5.73 MB/s) - ‘ml-latest-small.zip’ saved [978202/978202]\n",
            "\n",
            "Archive:  ml-latest-small.zip\n",
            "   creating: ml-latest-small/\n",
            "  inflating: ml-latest-small/links.csv  \n",
            "  inflating: ml-latest-small/tags.csv  \n",
            "  inflating: ml-latest-small/ratings.csv  \n",
            "  inflating: ml-latest-small/README.txt  \n",
            "  inflating: ml-latest-small/movies.csv  \n"
          ],
          "name": "stdout"
        }
      ]
    },
    {
      "cell_type": "markdown",
      "metadata": {
        "id": "22b06f16-6b79-4b2c-b0c7-2fb598b5a51e"
      },
      "source": [
        "These are the includes for the rest of the notebook"
      ],
      "id": "22b06f16-6b79-4b2c-b0c7-2fb598b5a51e"
    },
    {
      "cell_type": "code",
      "metadata": {
        "id": "4766af4e-320c-4048-8aed-b2ddbebf8bec"
      },
      "source": [
        "import pandas as pd\n",
        "import numpy as np\n",
        "import datetime\n",
        "import matplotlib as mpl\n",
        "import matplotlib.pyplot as plt"
      ],
      "id": "4766af4e-320c-4048-8aed-b2ddbebf8bec",
      "execution_count": 7,
      "outputs": []
    },
    {
      "cell_type": "markdown",
      "metadata": {
        "id": "a080f010-2876-4131-8740-27f25c306200"
      },
      "source": [
        "## Reading the movie data\n",
        "\n",
        "Let's start by reading the movie data and define a function findMovieByTitle that returns all movies which match a given string.\n",
        "\n",
        "We'll use the [pandas](https://pandas.pydata.org/pandas-docs/stable/index.html) library for loading. Key to performance is to not manually iterate over the data, but use built-in functions as much as possible."
      ],
      "id": "a080f010-2876-4131-8740-27f25c306200"
    },
    {
      "cell_type": "code",
      "metadata": {
        "id": "32daf323-2cbe-4c86-9b9e-2f26434bdbab"
      },
      "source": [
        "movies = pd.read_csv('ml-latest-small/movies.csv', index_col='movieId') # why is it called index_col, not index"
      ],
      "id": "32daf323-2cbe-4c86-9b9e-2f26434bdbab",
      "execution_count": 8,
      "outputs": []
    },
    {
      "cell_type": "code",
      "metadata": {
        "colab": {
          "base_uri": "https://localhost:8080/",
          "height": 238
        },
        "id": "-CdyaDGS1_94",
        "outputId": "3d5713a3-02d9-4591-dce9-def569c9c3e2"
      },
      "source": [
        "movies.head()"
      ],
      "id": "-CdyaDGS1_94",
      "execution_count": 9,
      "outputs": [
        {
          "output_type": "execute_result",
          "data": {
            "text/html": [
              "<div>\n",
              "<style scoped>\n",
              "    .dataframe tbody tr th:only-of-type {\n",
              "        vertical-align: middle;\n",
              "    }\n",
              "\n",
              "    .dataframe tbody tr th {\n",
              "        vertical-align: top;\n",
              "    }\n",
              "\n",
              "    .dataframe thead th {\n",
              "        text-align: right;\n",
              "    }\n",
              "</style>\n",
              "<table border=\"1\" class=\"dataframe\">\n",
              "  <thead>\n",
              "    <tr style=\"text-align: right;\">\n",
              "      <th></th>\n",
              "      <th>title</th>\n",
              "      <th>genres</th>\n",
              "    </tr>\n",
              "    <tr>\n",
              "      <th>movieId</th>\n",
              "      <th></th>\n",
              "      <th></th>\n",
              "    </tr>\n",
              "  </thead>\n",
              "  <tbody>\n",
              "    <tr>\n",
              "      <th>1</th>\n",
              "      <td>Toy Story (1995)</td>\n",
              "      <td>Adventure|Animation|Children|Comedy|Fantasy</td>\n",
              "    </tr>\n",
              "    <tr>\n",
              "      <th>2</th>\n",
              "      <td>Jumanji (1995)</td>\n",
              "      <td>Adventure|Children|Fantasy</td>\n",
              "    </tr>\n",
              "    <tr>\n",
              "      <th>3</th>\n",
              "      <td>Grumpier Old Men (1995)</td>\n",
              "      <td>Comedy|Romance</td>\n",
              "    </tr>\n",
              "    <tr>\n",
              "      <th>4</th>\n",
              "      <td>Waiting to Exhale (1995)</td>\n",
              "      <td>Comedy|Drama|Romance</td>\n",
              "    </tr>\n",
              "    <tr>\n",
              "      <th>5</th>\n",
              "      <td>Father of the Bride Part II (1995)</td>\n",
              "      <td>Comedy</td>\n",
              "    </tr>\n",
              "  </tbody>\n",
              "</table>\n",
              "</div>"
            ],
            "text/plain": [
              "                                      title                                       genres\n",
              "movieId                                                                                 \n",
              "1                          Toy Story (1995)  Adventure|Animation|Children|Comedy|Fantasy\n",
              "2                            Jumanji (1995)                   Adventure|Children|Fantasy\n",
              "3                   Grumpier Old Men (1995)                               Comedy|Romance\n",
              "4                  Waiting to Exhale (1995)                         Comedy|Drama|Romance\n",
              "5        Father of the Bride Part II (1995)                                       Comedy"
            ]
          },
          "metadata": {
            "tags": []
          },
          "execution_count": 9
        }
      ]
    },
    {
      "cell_type": "markdown",
      "metadata": {
        "id": "73a364bf-4f94-42f6-ab32-c77eac5ccdff"
      },
      "source": [
        "Implement a function findMovieByTitle that returns all movies whose title matches the string passed.\n",
        "\n",
        "Then, let's return all movies containing the term 'Matrix'"
      ],
      "id": "73a364bf-4f94-42f6-ab32-c77eac5ccdff"
    },
    {
      "cell_type": "code",
      "metadata": {
        "colab": {
          "base_uri": "https://localhost:8080/",
          "height": 175
        },
        "id": "bb31ddf7-0948-4860-b1ee-dcc2622c46db",
        "outputId": "12098c2c-5c27-4245-f4b1-6009bda5a1b2"
      },
      "source": [
        "# a function to do some exploration\n",
        "def find_movie_by_title(title):\n",
        "    return movies[movies.title.str.find(title) != -1]\n",
        "\n",
        "find_movie_by_title('Matrix')"
      ],
      "id": "bb31ddf7-0948-4860-b1ee-dcc2622c46db",
      "execution_count": 10,
      "outputs": [
        {
          "output_type": "execute_result",
          "data": {
            "text/html": [
              "<div>\n",
              "<style scoped>\n",
              "    .dataframe tbody tr th:only-of-type {\n",
              "        vertical-align: middle;\n",
              "    }\n",
              "\n",
              "    .dataframe tbody tr th {\n",
              "        vertical-align: top;\n",
              "    }\n",
              "\n",
              "    .dataframe thead th {\n",
              "        text-align: right;\n",
              "    }\n",
              "</style>\n",
              "<table border=\"1\" class=\"dataframe\">\n",
              "  <thead>\n",
              "    <tr style=\"text-align: right;\">\n",
              "      <th></th>\n",
              "      <th>title</th>\n",
              "      <th>genres</th>\n",
              "    </tr>\n",
              "    <tr>\n",
              "      <th>movieId</th>\n",
              "      <th></th>\n",
              "      <th></th>\n",
              "    </tr>\n",
              "  </thead>\n",
              "  <tbody>\n",
              "    <tr>\n",
              "      <th>2571</th>\n",
              "      <td>Matrix, The (1999)</td>\n",
              "      <td>Action|Sci-Fi|Thriller</td>\n",
              "    </tr>\n",
              "    <tr>\n",
              "      <th>6365</th>\n",
              "      <td>Matrix Reloaded, The (2003)</td>\n",
              "      <td>Action|Adventure|Sci-Fi|Thriller|IMAX</td>\n",
              "    </tr>\n",
              "    <tr>\n",
              "      <th>6934</th>\n",
              "      <td>Matrix Revolutions, The (2003)</td>\n",
              "      <td>Action|Adventure|Sci-Fi|Thriller|IMAX</td>\n",
              "    </tr>\n",
              "  </tbody>\n",
              "</table>\n",
              "</div>"
            ],
            "text/plain": [
              "                                  title                                 genres\n",
              "movieId                                                                       \n",
              "2571                 Matrix, The (1999)                 Action|Sci-Fi|Thriller\n",
              "6365        Matrix Reloaded, The (2003)  Action|Adventure|Sci-Fi|Thriller|IMAX\n",
              "6934     Matrix Revolutions, The (2003)  Action|Adventure|Sci-Fi|Thriller|IMAX"
            ]
          },
          "metadata": {
            "tags": []
          },
          "execution_count": 10
        }
      ]
    },
    {
      "cell_type": "markdown",
      "metadata": {
        "id": "97e7f030-7c49-4b29-804e-9927aef0e542"
      },
      "source": [
        "## Reading the ratings data\n",
        "\n",
        "Next, we'll load the ratings data set. Use datetime.datetime.fromtimestamp to convert the timestamp column to an actual datetime object (this will make it more readable)"
      ],
      "id": "97e7f030-7c49-4b29-804e-9927aef0e542"
    },
    {
      "cell_type": "code",
      "metadata": {
        "id": "0809bd19-abf8-4879-9153-b9fee7ea64ed"
      },
      "source": [
        "ratings = pd.read_csv('ml-latest-small/ratings.csv')\n",
        "ratings.timestamp = ratings.timestamp.apply(datetime.datetime.fromtimestamp) # datetime.datetime WTF\n",
        "\n",
        "userIds = ratings.userId.unique()\n"
      ],
      "id": "0809bd19-abf8-4879-9153-b9fee7ea64ed",
      "execution_count": 11,
      "outputs": []
    },
    {
      "cell_type": "code",
      "metadata": {
        "colab": {
          "base_uri": "https://localhost:8080/"
        },
        "id": "jQPeupgg3Q2H",
        "outputId": "ee6f8537-de39-470d-e941-5a87417b6e19"
      },
      "source": [
        "ratings.shape"
      ],
      "id": "jQPeupgg3Q2H",
      "execution_count": 12,
      "outputs": [
        {
          "output_type": "execute_result",
          "data": {
            "text/plain": [
              "(100836, 4)"
            ]
          },
          "metadata": {
            "tags": []
          },
          "execution_count": 12
        }
      ]
    },
    {
      "cell_type": "markdown",
      "metadata": {
        "id": "99304b05-d750-42f1-85b1-e48ec94b59b6"
      },
      "source": [
        "Now, define a function ratingsForUser that takes a user id and returns all the entries from the ratings table for that user."
      ],
      "id": "99304b05-d750-42f1-85b1-e48ec94b59b6"
    },
    {
      "cell_type": "code",
      "metadata": {
        "colab": {
          "base_uri": "https://localhost:8080/",
          "height": 424
        },
        "id": "9fa23ccf-b29b-4b3b-8ffc-d802fb8f41bb",
        "outputId": "e88f526b-694d-4057-b6a7-e79ef4b21ca6"
      },
      "source": [
        "# again, another function to find some data\n",
        "def ratings_for_user(uid):\n",
        "  return ratings[ratings.userId == uid]\n",
        "\n",
        "ratings_for_user(20)"
      ],
      "id": "9fa23ccf-b29b-4b3b-8ffc-d802fb8f41bb",
      "execution_count": 13,
      "outputs": [
        {
          "output_type": "execute_result",
          "data": {
            "text/html": [
              "<div>\n",
              "<style scoped>\n",
              "    .dataframe tbody tr th:only-of-type {\n",
              "        vertical-align: middle;\n",
              "    }\n",
              "\n",
              "    .dataframe tbody tr th {\n",
              "        vertical-align: top;\n",
              "    }\n",
              "\n",
              "    .dataframe thead th {\n",
              "        text-align: right;\n",
              "    }\n",
              "</style>\n",
              "<table border=\"1\" class=\"dataframe\">\n",
              "  <thead>\n",
              "    <tr style=\"text-align: right;\">\n",
              "      <th></th>\n",
              "      <th>userId</th>\n",
              "      <th>movieId</th>\n",
              "      <th>rating</th>\n",
              "      <th>timestamp</th>\n",
              "    </tr>\n",
              "  </thead>\n",
              "  <tbody>\n",
              "    <tr>\n",
              "      <th>2977</th>\n",
              "      <td>20</td>\n",
              "      <td>2</td>\n",
              "      <td>3.0</td>\n",
              "      <td>2003-05-27 12:25:13</td>\n",
              "    </tr>\n",
              "    <tr>\n",
              "      <th>2978</th>\n",
              "      <td>20</td>\n",
              "      <td>8</td>\n",
              "      <td>1.0</td>\n",
              "      <td>2003-05-27 12:27:02</td>\n",
              "    </tr>\n",
              "    <tr>\n",
              "      <th>2979</th>\n",
              "      <td>20</td>\n",
              "      <td>13</td>\n",
              "      <td>4.0</td>\n",
              "      <td>2003-05-27 12:27:05</td>\n",
              "    </tr>\n",
              "    <tr>\n",
              "      <th>2980</th>\n",
              "      <td>20</td>\n",
              "      <td>34</td>\n",
              "      <td>4.0</td>\n",
              "      <td>2003-05-27 12:21:33</td>\n",
              "    </tr>\n",
              "    <tr>\n",
              "      <th>2981</th>\n",
              "      <td>20</td>\n",
              "      <td>48</td>\n",
              "      <td>5.0</td>\n",
              "      <td>2003-05-27 12:25:57</td>\n",
              "    </tr>\n",
              "    <tr>\n",
              "      <th>...</th>\n",
              "      <td>...</td>\n",
              "      <td>...</td>\n",
              "      <td>...</td>\n",
              "      <td>...</td>\n",
              "    </tr>\n",
              "    <tr>\n",
              "      <th>3214</th>\n",
              "      <td>20</td>\n",
              "      <td>6297</td>\n",
              "      <td>4.0</td>\n",
              "      <td>2003-05-27 11:57:50</td>\n",
              "    </tr>\n",
              "    <tr>\n",
              "      <th>3215</th>\n",
              "      <td>20</td>\n",
              "      <td>6333</td>\n",
              "      <td>4.0</td>\n",
              "      <td>2003-05-27 11:56:56</td>\n",
              "    </tr>\n",
              "    <tr>\n",
              "      <th>3216</th>\n",
              "      <td>20</td>\n",
              "      <td>6345</td>\n",
              "      <td>5.0</td>\n",
              "      <td>2003-05-27 11:57:03</td>\n",
              "    </tr>\n",
              "    <tr>\n",
              "      <th>3217</th>\n",
              "      <td>20</td>\n",
              "      <td>6358</td>\n",
              "      <td>3.5</td>\n",
              "      <td>2003-05-28 18:45:05</td>\n",
              "    </tr>\n",
              "    <tr>\n",
              "      <th>3218</th>\n",
              "      <td>20</td>\n",
              "      <td>6365</td>\n",
              "      <td>4.0</td>\n",
              "      <td>2003-05-28 18:39:27</td>\n",
              "    </tr>\n",
              "  </tbody>\n",
              "</table>\n",
              "<p>242 rows × 4 columns</p>\n",
              "</div>"
            ],
            "text/plain": [
              "      userId  movieId  rating           timestamp\n",
              "2977      20        2     3.0 2003-05-27 12:25:13\n",
              "2978      20        8     1.0 2003-05-27 12:27:02\n",
              "2979      20       13     4.0 2003-05-27 12:27:05\n",
              "2980      20       34     4.0 2003-05-27 12:21:33\n",
              "2981      20       48     5.0 2003-05-27 12:25:57\n",
              "...      ...      ...     ...                 ...\n",
              "3214      20     6297     4.0 2003-05-27 11:57:50\n",
              "3215      20     6333     4.0 2003-05-27 11:56:56\n",
              "3216      20     6345     5.0 2003-05-27 11:57:03\n",
              "3217      20     6358     3.5 2003-05-28 18:45:05\n",
              "3218      20     6365     4.0 2003-05-28 18:39:27\n",
              "\n",
              "[242 rows x 4 columns]"
            ]
          },
          "metadata": {
            "tags": []
          },
          "execution_count": 13
        }
      ]
    },
    {
      "cell_type": "markdown",
      "metadata": {
        "id": "40f30345-db31-4151-9924-70a425d6a91b"
      },
      "source": [
        "Let's do some data exploration. Compute the number of ratings per user and plot the histogram. Hint, use the [groupby](https://pandas.pydata.org/pandas-docs/stable/reference/api/pandas.DataFrame.groupby.html) function from pandas. "
      ],
      "id": "40f30345-db31-4151-9924-70a425d6a91b"
    },
    {
      "cell_type": "code",
      "metadata": {
        "colab": {
          "base_uri": "https://localhost:8080/",
          "height": 455
        },
        "id": "defce79a-68f1-4c0a-91f0-2e01efbbefda",
        "outputId": "386da8d2-8218-4af2-f51c-a69bb0cc5c91"
      },
      "source": [
        "# compute a histogram of number of ratings.\n",
        "def number_of_ratings_per_user():\n",
        "  return ratings.groupby(by=['userId'], \n",
        "                         axis=0,\n",
        "                         as_index=True, \n",
        "                         sort=True,\n",
        "                         dropna=True).agg(\n",
        "                             number_of_ratings=pd.NamedAgg(column='movieId', aggfunc='count')\n",
        "                         )\n",
        "\n",
        "nr_of_ratings = number_of_ratings_per_user()\n",
        "nr_of_ratings"
      ],
      "id": "defce79a-68f1-4c0a-91f0-2e01efbbefda",
      "execution_count": 21,
      "outputs": [
        {
          "output_type": "execute_result",
          "data": {
            "text/html": [
              "<div>\n",
              "<style scoped>\n",
              "    .dataframe tbody tr th:only-of-type {\n",
              "        vertical-align: middle;\n",
              "    }\n",
              "\n",
              "    .dataframe tbody tr th {\n",
              "        vertical-align: top;\n",
              "    }\n",
              "\n",
              "    .dataframe thead th {\n",
              "        text-align: right;\n",
              "    }\n",
              "</style>\n",
              "<table border=\"1\" class=\"dataframe\">\n",
              "  <thead>\n",
              "    <tr style=\"text-align: right;\">\n",
              "      <th></th>\n",
              "      <th>number_of_ratings</th>\n",
              "    </tr>\n",
              "    <tr>\n",
              "      <th>userId</th>\n",
              "      <th></th>\n",
              "    </tr>\n",
              "  </thead>\n",
              "  <tbody>\n",
              "    <tr>\n",
              "      <th>1</th>\n",
              "      <td>232</td>\n",
              "    </tr>\n",
              "    <tr>\n",
              "      <th>2</th>\n",
              "      <td>29</td>\n",
              "    </tr>\n",
              "    <tr>\n",
              "      <th>3</th>\n",
              "      <td>39</td>\n",
              "    </tr>\n",
              "    <tr>\n",
              "      <th>4</th>\n",
              "      <td>216</td>\n",
              "    </tr>\n",
              "    <tr>\n",
              "      <th>5</th>\n",
              "      <td>44</td>\n",
              "    </tr>\n",
              "    <tr>\n",
              "      <th>...</th>\n",
              "      <td>...</td>\n",
              "    </tr>\n",
              "    <tr>\n",
              "      <th>606</th>\n",
              "      <td>1115</td>\n",
              "    </tr>\n",
              "    <tr>\n",
              "      <th>607</th>\n",
              "      <td>187</td>\n",
              "    </tr>\n",
              "    <tr>\n",
              "      <th>608</th>\n",
              "      <td>831</td>\n",
              "    </tr>\n",
              "    <tr>\n",
              "      <th>609</th>\n",
              "      <td>37</td>\n",
              "    </tr>\n",
              "    <tr>\n",
              "      <th>610</th>\n",
              "      <td>1302</td>\n",
              "    </tr>\n",
              "  </tbody>\n",
              "</table>\n",
              "<p>610 rows × 1 columns</p>\n",
              "</div>"
            ],
            "text/plain": [
              "        number_of_ratings\n",
              "userId                   \n",
              "1                     232\n",
              "2                      29\n",
              "3                      39\n",
              "4                     216\n",
              "5                      44\n",
              "...                   ...\n",
              "606                  1115\n",
              "607                   187\n",
              "608                   831\n",
              "609                    37\n",
              "610                  1302\n",
              "\n",
              "[610 rows x 1 columns]"
            ]
          },
          "metadata": {
            "tags": []
          },
          "execution_count": 21
        }
      ]
    },
    {
      "cell_type": "code",
      "metadata": {
        "colab": {
          "base_uri": "https://localhost:8080/",
          "height": 49
        },
        "id": "9zmiy3wY-lsS",
        "outputId": "ae719a23-097b-400e-dadb-99e44c4b990d"
      },
      "source": [
        "ratings[ratings['rating'].isna()]"
      ],
      "id": "9zmiy3wY-lsS",
      "execution_count": 15,
      "outputs": [
        {
          "output_type": "execute_result",
          "data": {
            "text/html": [
              "<div>\n",
              "<style scoped>\n",
              "    .dataframe tbody tr th:only-of-type {\n",
              "        vertical-align: middle;\n",
              "    }\n",
              "\n",
              "    .dataframe tbody tr th {\n",
              "        vertical-align: top;\n",
              "    }\n",
              "\n",
              "    .dataframe thead th {\n",
              "        text-align: right;\n",
              "    }\n",
              "</style>\n",
              "<table border=\"1\" class=\"dataframe\">\n",
              "  <thead>\n",
              "    <tr style=\"text-align: right;\">\n",
              "      <th></th>\n",
              "      <th>userId</th>\n",
              "      <th>movieId</th>\n",
              "      <th>rating</th>\n",
              "      <th>timestamp</th>\n",
              "    </tr>\n",
              "  </thead>\n",
              "  <tbody>\n",
              "  </tbody>\n",
              "</table>\n",
              "</div>"
            ],
            "text/plain": [
              "Empty DataFrame\n",
              "Columns: [userId, movieId, rating, timestamp]\n",
              "Index: []"
            ]
          },
          "metadata": {
            "tags": []
          },
          "execution_count": 15
        }
      ]
    },
    {
      "cell_type": "code",
      "metadata": {
        "colab": {
          "base_uri": "https://localhost:8080/",
          "height": 305
        },
        "id": "amej5fYg--JS",
        "outputId": "9748ba22-a424-4177-a378-a9c206c2fc53"
      },
      "source": [
        "nr_of_ratings.plot.bar()\n"
      ],
      "id": "amej5fYg--JS",
      "execution_count": 16,
      "outputs": [
        {
          "output_type": "execute_result",
          "data": {
            "text/plain": [
              "<matplotlib.axes._subplots.AxesSubplot at 0x7fac9b6fe810>"
            ]
          },
          "metadata": {
            "tags": []
          },
          "execution_count": 16
        },
        {
          "output_type": "display_data",
          "data": {
            "image/png": "[encoded data removed]",
            "text/plain": [
              "<Figure size 432x288 with 1 Axes>"
            ]
          },
          "metadata": {
            "tags": [],
            "needs_background": "light"
          }
        }
      ]
    },
    {
      "cell_type": "markdown",
      "metadata": {
        "id": "ac53b4c3-5d23-4048-a3db-64d328a6b114"
      },
      "source": [
        "This data set looks highly skewed as often the case. Most users have only a small number of ratings. What is the minimum number of ratings in the data set?"
      ],
      "id": "ac53b4c3-5d23-4048-a3db-64d328a6b114"
    },
    {
      "cell_type": "code",
      "metadata": {
        "id": "870e88c0-5ac0-4760-a02f-660f8c4da14a",
        "colab": {
          "base_uri": "https://localhost:8080/"
        },
        "outputId": "2be4f646-d164-4658-c4ef-a5dc08a65b65"
      },
      "source": [
        "nr_of_ratings.min()"
      ],
      "id": "870e88c0-5ac0-4760-a02f-660f8c4da14a",
      "execution_count": 17,
      "outputs": [
        {
          "output_type": "execute_result",
          "data": {
            "text/plain": [
              "number_of_ratings    20\n",
              "dtype: int64"
            ]
          },
          "metadata": {
            "tags": []
          },
          "execution_count": 17
        }
      ]
    },
    {
      "cell_type": "code",
      "metadata": {
        "colab": {
          "base_uri": "https://localhost:8080/",
          "height": 520
        },
        "id": "C-kj0wsi7UDj",
        "outputId": "a199c0d4-88d7-405f-c4e1-3903347dd822"
      },
      "source": [
        "nr_of_ratings[nr_of_ratings.number_of_ratings == nr_of_ratings.number_of_ratings.min()]"
      ],
      "id": "C-kj0wsi7UDj",
      "execution_count": 44,
      "outputs": [
        {
          "output_type": "execute_result",
          "data": {
            "text/html": [
              "<div>\n",
              "<style scoped>\n",
              "    .dataframe tbody tr th:only-of-type {\n",
              "        vertical-align: middle;\n",
              "    }\n",
              "\n",
              "    .dataframe tbody tr th {\n",
              "        vertical-align: top;\n",
              "    }\n",
              "\n",
              "    .dataframe thead th {\n",
              "        text-align: right;\n",
              "    }\n",
              "</style>\n",
              "<table border=\"1\" class=\"dataframe\">\n",
              "  <thead>\n",
              "    <tr style=\"text-align: right;\">\n",
              "      <th></th>\n",
              "      <th>number_of_ratings</th>\n",
              "    </tr>\n",
              "    <tr>\n",
              "      <th>userId</th>\n",
              "      <th></th>\n",
              "    </tr>\n",
              "  </thead>\n",
              "  <tbody>\n",
              "    <tr>\n",
              "      <th>53</th>\n",
              "      <td>20</td>\n",
              "    </tr>\n",
              "    <tr>\n",
              "      <th>147</th>\n",
              "      <td>20</td>\n",
              "    </tr>\n",
              "    <tr>\n",
              "      <th>189</th>\n",
              "      <td>20</td>\n",
              "    </tr>\n",
              "    <tr>\n",
              "      <th>194</th>\n",
              "      <td>20</td>\n",
              "    </tr>\n",
              "    <tr>\n",
              "      <th>207</th>\n",
              "      <td>20</td>\n",
              "    </tr>\n",
              "    <tr>\n",
              "      <th>257</th>\n",
              "      <td>20</td>\n",
              "    </tr>\n",
              "    <tr>\n",
              "      <th>278</th>\n",
              "      <td>20</td>\n",
              "    </tr>\n",
              "    <tr>\n",
              "      <th>320</th>\n",
              "      <td>20</td>\n",
              "    </tr>\n",
              "    <tr>\n",
              "      <th>406</th>\n",
              "      <td>20</td>\n",
              "    </tr>\n",
              "    <tr>\n",
              "      <th>431</th>\n",
              "      <td>20</td>\n",
              "    </tr>\n",
              "    <tr>\n",
              "      <th>442</th>\n",
              "      <td>20</td>\n",
              "    </tr>\n",
              "    <tr>\n",
              "      <th>569</th>\n",
              "      <td>20</td>\n",
              "    </tr>\n",
              "    <tr>\n",
              "      <th>576</th>\n",
              "      <td>20</td>\n",
              "    </tr>\n",
              "    <tr>\n",
              "      <th>595</th>\n",
              "      <td>20</td>\n",
              "    </tr>\n",
              "  </tbody>\n",
              "</table>\n",
              "</div>"
            ],
            "text/plain": [
              "        number_of_ratings\n",
              "userId                   \n",
              "53                     20\n",
              "147                    20\n",
              "189                    20\n",
              "194                    20\n",
              "207                    20\n",
              "257                    20\n",
              "278                    20\n",
              "320                    20\n",
              "406                    20\n",
              "431                    20\n",
              "442                    20\n",
              "569                    20\n",
              "576                    20\n",
              "595                    20"
            ]
          },
          "metadata": {
            "tags": []
          },
          "execution_count": 44
        }
      ]
    },
    {
      "cell_type": "markdown",
      "metadata": {
        "id": "b5b7088c-7b1f-4f86-bed9-011ed63be1fe"
      },
      "source": [
        "What is the movie with the most views?"
      ],
      "id": "b5b7088c-7b1f-4f86-bed9-011ed63be1fe"
    },
    {
      "cell_type": "code",
      "metadata": {
        "id": "b996671f-15e6-4814-bd94-c1b43247e2f8",
        "colab": {
          "base_uri": "https://localhost:8080/",
          "height": 112
        },
        "outputId": "5d53b2ef-7fe5-4f7f-e55f-a10e1d649c63"
      },
      "source": [
        "def number_of_ratings_per_movie():\n",
        "   return ratings.groupby(by=['movieId'], \n",
        "                         axis=0,\n",
        "                         as_index=True, \n",
        "                         sort=True,\n",
        "                         dropna=True).agg(\n",
        "                             number_of_ratings=pd.NamedAgg(column='movieId', aggfunc='count')\n",
        "                         )\n",
        "\n",
        "number_of_ratings_per_movie_ = number_of_ratings_per_movie()\n",
        "number_of_ratings_per_movie_\n",
        "number_of_ratings_per_movie_[number_of_ratings_per_movie_.number_of_ratings == number_of_ratings_per_movie_.number_of_ratings.max()]"
      ],
      "id": "b996671f-15e6-4814-bd94-c1b43247e2f8",
      "execution_count": 19,
      "outputs": [
        {
          "output_type": "execute_result",
          "data": {
            "text/html": [
              "<div>\n",
              "<style scoped>\n",
              "    .dataframe tbody tr th:only-of-type {\n",
              "        vertical-align: middle;\n",
              "    }\n",
              "\n",
              "    .dataframe tbody tr th {\n",
              "        vertical-align: top;\n",
              "    }\n",
              "\n",
              "    .dataframe thead th {\n",
              "        text-align: right;\n",
              "    }\n",
              "</style>\n",
              "<table border=\"1\" class=\"dataframe\">\n",
              "  <thead>\n",
              "    <tr style=\"text-align: right;\">\n",
              "      <th></th>\n",
              "      <th>number_of_ratings</th>\n",
              "    </tr>\n",
              "    <tr>\n",
              "      <th>movieId</th>\n",
              "      <th></th>\n",
              "    </tr>\n",
              "  </thead>\n",
              "  <tbody>\n",
              "    <tr>\n",
              "      <th>356</th>\n",
              "      <td>329</td>\n",
              "    </tr>\n",
              "  </tbody>\n",
              "</table>\n",
              "</div>"
            ],
            "text/plain": [
              "         number_of_ratings\n",
              "movieId                   \n",
              "356                    329"
            ]
          },
          "metadata": {
            "tags": []
          },
          "execution_count": 19
        }
      ]
    },
    {
      "cell_type": "code",
      "metadata": {
        "id": "_PbEvzEPaYbu",
        "outputId": "2568b19e-dda5-4c92-e1ac-51b0b3171d24",
        "colab": {
          "base_uri": "https://localhost:8080/"
        }
      },
      "source": [
        "movies.loc[356]"
      ],
      "id": "_PbEvzEPaYbu",
      "execution_count": 125,
      "outputs": [
        {
          "output_type": "execute_result",
          "data": {
            "text/plain": [
              "title          Forrest Gump (1994)\n",
              "genres    Comedy|Drama|Romance|War\n",
              "Name: 356, dtype: object"
            ]
          },
          "metadata": {
            "tags": []
          },
          "execution_count": 125
        }
      ]
    },
    {
      "cell_type": "markdown",
      "metadata": {
        "id": "80fa24a5-ff27-4df8-bf14-db58e0f57ff4"
      },
      "source": [
        "This is a all not very informative. Try joining the movies data to this result set so that you can see the title and the other columns as well. (Hint: you need to use the 'on=' keyword int he join function)"
      ],
      "id": "80fa24a5-ff27-4df8-bf14-db58e0f57ff4"
    },
    {
      "cell_type": "code",
      "metadata": {
        "id": "6a229651-700d-4b0b-873c-023deebd9f7b",
        "colab": {
          "base_uri": "https://localhost:8080/",
          "height": 455
        },
        "outputId": "a92363f8-0761-4db8-f902-d221c9552f87"
      },
      "source": [
        "movies_extended = movies.join(number_of_ratings_per_movie_, on='movieId')\n",
        "movies_extended.join(ratings, on='movieId')\n",
        "movies_extended"
      ],
      "id": "6a229651-700d-4b0b-873c-023deebd9f7b",
      "execution_count": 22,
      "outputs": [
        {
          "output_type": "execute_result",
          "data": {
            "text/html": [
              "<div>\n",
              "<style scoped>\n",
              "    .dataframe tbody tr th:only-of-type {\n",
              "        vertical-align: middle;\n",
              "    }\n",
              "\n",
              "    .dataframe tbody tr th {\n",
              "        vertical-align: top;\n",
              "    }\n",
              "\n",
              "    .dataframe thead th {\n",
              "        text-align: right;\n",
              "    }\n",
              "</style>\n",
              "<table border=\"1\" class=\"dataframe\">\n",
              "  <thead>\n",
              "    <tr style=\"text-align: right;\">\n",
              "      <th></th>\n",
              "      <th>title</th>\n",
              "      <th>genres</th>\n",
              "      <th>number_of_ratings</th>\n",
              "    </tr>\n",
              "    <tr>\n",
              "      <th>movieId</th>\n",
              "      <th></th>\n",
              "      <th></th>\n",
              "      <th></th>\n",
              "    </tr>\n",
              "  </thead>\n",
              "  <tbody>\n",
              "    <tr>\n",
              "      <th>1</th>\n",
              "      <td>Toy Story (1995)</td>\n",
              "      <td>Adventure|Animation|Children|Comedy|Fantasy</td>\n",
              "      <td>215.0</td>\n",
              "    </tr>\n",
              "    <tr>\n",
              "      <th>2</th>\n",
              "      <td>Jumanji (1995)</td>\n",
              "      <td>Adventure|Children|Fantasy</td>\n",
              "      <td>110.0</td>\n",
              "    </tr>\n",
              "    <tr>\n",
              "      <th>3</th>\n",
              "      <td>Grumpier Old Men (1995)</td>\n",
              "      <td>Comedy|Romance</td>\n",
              "      <td>52.0</td>\n",
              "    </tr>\n",
              "    <tr>\n",
              "      <th>4</th>\n",
              "      <td>Waiting to Exhale (1995)</td>\n",
              "      <td>Comedy|Drama|Romance</td>\n",
              "      <td>7.0</td>\n",
              "    </tr>\n",
              "    <tr>\n",
              "      <th>5</th>\n",
              "      <td>Father of the Bride Part II (1995)</td>\n",
              "      <td>Comedy</td>\n",
              "      <td>49.0</td>\n",
              "    </tr>\n",
              "    <tr>\n",
              "      <th>...</th>\n",
              "      <td>...</td>\n",
              "      <td>...</td>\n",
              "      <td>...</td>\n",
              "    </tr>\n",
              "    <tr>\n",
              "      <th>193581</th>\n",
              "      <td>Black Butler: Book of the Atlantic (2017)</td>\n",
              "      <td>Action|Animation|Comedy|Fantasy</td>\n",
              "      <td>1.0</td>\n",
              "    </tr>\n",
              "    <tr>\n",
              "      <th>193583</th>\n",
              "      <td>No Game No Life: Zero (2017)</td>\n",
              "      <td>Animation|Comedy|Fantasy</td>\n",
              "      <td>1.0</td>\n",
              "    </tr>\n",
              "    <tr>\n",
              "      <th>193585</th>\n",
              "      <td>Flint (2017)</td>\n",
              "      <td>Drama</td>\n",
              "      <td>1.0</td>\n",
              "    </tr>\n",
              "    <tr>\n",
              "      <th>193587</th>\n",
              "      <td>Bungo Stray Dogs: Dead Apple (2018)</td>\n",
              "      <td>Action|Animation</td>\n",
              "      <td>1.0</td>\n",
              "    </tr>\n",
              "    <tr>\n",
              "      <th>193609</th>\n",
              "      <td>Andrew Dice Clay: Dice Rules (1991)</td>\n",
              "      <td>Comedy</td>\n",
              "      <td>1.0</td>\n",
              "    </tr>\n",
              "  </tbody>\n",
              "</table>\n",
              "<p>9742 rows × 3 columns</p>\n",
              "</div>"
            ],
            "text/plain": [
              "                                             title  ... number_of_ratings\n",
              "movieId                                             ...                  \n",
              "1                                 Toy Story (1995)  ...             215.0\n",
              "2                                   Jumanji (1995)  ...             110.0\n",
              "3                          Grumpier Old Men (1995)  ...              52.0\n",
              "4                         Waiting to Exhale (1995)  ...               7.0\n",
              "5               Father of the Bride Part II (1995)  ...              49.0\n",
              "...                                            ...  ...               ...\n",
              "193581   Black Butler: Book of the Atlantic (2017)  ...               1.0\n",
              "193583                No Game No Life: Zero (2017)  ...               1.0\n",
              "193585                                Flint (2017)  ...               1.0\n",
              "193587         Bungo Stray Dogs: Dead Apple (2018)  ...               1.0\n",
              "193609         Andrew Dice Clay: Dice Rules (1991)  ...               1.0\n",
              "\n",
              "[9742 rows x 3 columns]"
            ]
          },
          "metadata": {
            "tags": []
          },
          "execution_count": 22
        }
      ]
    },
    {
      "cell_type": "markdown",
      "metadata": {
        "id": "3d1d121b-8f21-4129-9770-337057daf865"
      },
      "source": [
        "Likewise, what's the best rated movie of all times?"
      ],
      "id": "3d1d121b-8f21-4129-9770-337057daf865"
    },
    {
      "cell_type": "code",
      "metadata": {
        "id": "2329c488-6f35-4717-abc7-a08edc313291"
      },
      "source": [
        "ratings_extended_on_movieId = ratings[['movieId', 'rating']].groupby(by=['movieId']).agg({'rating': ['mean', 'max', 'min']})"
      ],
      "id": "2329c488-6f35-4717-abc7-a08edc313291",
      "execution_count": 23,
      "outputs": []
    },
    {
      "cell_type": "code",
      "metadata": {
        "colab": {
          "base_uri": "https://localhost:8080/"
        },
        "id": "ijSpsMPhCzVN",
        "outputId": "367ef29e-bac4-4206-de47-13d6b82870f7"
      },
      "source": [
        "movies_extended2 = movies_extended.join(ratings_extended_on_movieId, on='movieId')"
      ],
      "id": "ijSpsMPhCzVN",
      "execution_count": 24,
      "outputs": [
        {
          "output_type": "stream",
          "text": [
            "/usr/local/lib/python3.7/dist-packages/pandas/core/reshape/merge.py:643: UserWarning: merging between different levels can give an unintended result (1 levels on the left,2 on the right)\n",
            "  warnings.warn(msg, UserWarning)\n"
          ],
          "name": "stderr"
        }
      ]
    },
    {
      "cell_type": "code",
      "metadata": {
        "colab": {
          "base_uri": "https://localhost:8080/",
          "height": 455
        },
        "id": "UEgTKtmtEIfq",
        "outputId": "a67cc1e5-2160-4b9d-9c89-3e843799380f"
      },
      "source": [
        "five_stars = movies_extended2[movies_extended2[('rating', 'mean')] == movies_extended2[('rating', 'mean')].max()]\n",
        "five_stars"
      ],
      "id": "UEgTKtmtEIfq",
      "execution_count": 127,
      "outputs": [
        {
          "output_type": "execute_result",
          "data": {
            "text/html": [
              "<div>\n",
              "<style scoped>\n",
              "    .dataframe tbody tr th:only-of-type {\n",
              "        vertical-align: middle;\n",
              "    }\n",
              "\n",
              "    .dataframe tbody tr th {\n",
              "        vertical-align: top;\n",
              "    }\n",
              "\n",
              "    .dataframe thead th {\n",
              "        text-align: right;\n",
              "    }\n",
              "</style>\n",
              "<table border=\"1\" class=\"dataframe\">\n",
              "  <thead>\n",
              "    <tr style=\"text-align: right;\">\n",
              "      <th></th>\n",
              "      <th>title</th>\n",
              "      <th>genres</th>\n",
              "      <th>number_of_ratings</th>\n",
              "      <th>(rating, mean)</th>\n",
              "      <th>(rating, max)</th>\n",
              "      <th>(rating, min)</th>\n",
              "    </tr>\n",
              "    <tr>\n",
              "      <th>movieId</th>\n",
              "      <th></th>\n",
              "      <th></th>\n",
              "      <th></th>\n",
              "      <th></th>\n",
              "      <th></th>\n",
              "      <th></th>\n",
              "    </tr>\n",
              "  </thead>\n",
              "  <tbody>\n",
              "    <tr>\n",
              "      <th>53</th>\n",
              "      <td>Lamerica (1994)</td>\n",
              "      <td>Adventure|Drama</td>\n",
              "      <td>2.0</td>\n",
              "      <td>5.0</td>\n",
              "      <td>5.0</td>\n",
              "      <td>5.0</td>\n",
              "    </tr>\n",
              "    <tr>\n",
              "      <th>99</th>\n",
              "      <td>Heidi Fleiss: Hollywood Madam (1995)</td>\n",
              "      <td>Documentary</td>\n",
              "      <td>2.0</td>\n",
              "      <td>5.0</td>\n",
              "      <td>5.0</td>\n",
              "      <td>5.0</td>\n",
              "    </tr>\n",
              "    <tr>\n",
              "      <th>148</th>\n",
              "      <td>Awfully Big Adventure, An (1995)</td>\n",
              "      <td>Drama</td>\n",
              "      <td>1.0</td>\n",
              "      <td>5.0</td>\n",
              "      <td>5.0</td>\n",
              "      <td>5.0</td>\n",
              "    </tr>\n",
              "    <tr>\n",
              "      <th>467</th>\n",
              "      <td>Live Nude Girls (1995)</td>\n",
              "      <td>Comedy</td>\n",
              "      <td>1.0</td>\n",
              "      <td>5.0</td>\n",
              "      <td>5.0</td>\n",
              "      <td>5.0</td>\n",
              "    </tr>\n",
              "    <tr>\n",
              "      <th>495</th>\n",
              "      <td>In the Realm of the Senses (Ai no corrida) (1976)</td>\n",
              "      <td>Drama</td>\n",
              "      <td>1.0</td>\n",
              "      <td>5.0</td>\n",
              "      <td>5.0</td>\n",
              "      <td>5.0</td>\n",
              "    </tr>\n",
              "    <tr>\n",
              "      <th>...</th>\n",
              "      <td>...</td>\n",
              "      <td>...</td>\n",
              "      <td>...</td>\n",
              "      <td>...</td>\n",
              "      <td>...</td>\n",
              "      <td>...</td>\n",
              "    </tr>\n",
              "    <tr>\n",
              "      <th>176601</th>\n",
              "      <td>Black Mirror</td>\n",
              "      <td>(no genres listed)</td>\n",
              "      <td>1.0</td>\n",
              "      <td>5.0</td>\n",
              "      <td>5.0</td>\n",
              "      <td>5.0</td>\n",
              "    </tr>\n",
              "    <tr>\n",
              "      <th>179133</th>\n",
              "      <td>Loving Vincent (2017)</td>\n",
              "      <td>Animation|Crime|Drama</td>\n",
              "      <td>1.0</td>\n",
              "      <td>5.0</td>\n",
              "      <td>5.0</td>\n",
              "      <td>5.0</td>\n",
              "    </tr>\n",
              "    <tr>\n",
              "      <th>179135</th>\n",
              "      <td>Blue Planet II (2017)</td>\n",
              "      <td>Documentary</td>\n",
              "      <td>1.0</td>\n",
              "      <td>5.0</td>\n",
              "      <td>5.0</td>\n",
              "      <td>5.0</td>\n",
              "    </tr>\n",
              "    <tr>\n",
              "      <th>184245</th>\n",
              "      <td>De platte jungle (1978)</td>\n",
              "      <td>Documentary</td>\n",
              "      <td>1.0</td>\n",
              "      <td>5.0</td>\n",
              "      <td>5.0</td>\n",
              "      <td>5.0</td>\n",
              "    </tr>\n",
              "    <tr>\n",
              "      <th>187717</th>\n",
              "      <td>Won't You Be My Neighbor? (2018)</td>\n",
              "      <td>Documentary</td>\n",
              "      <td>1.0</td>\n",
              "      <td>5.0</td>\n",
              "      <td>5.0</td>\n",
              "      <td>5.0</td>\n",
              "    </tr>\n",
              "  </tbody>\n",
              "</table>\n",
              "<p>296 rows × 6 columns</p>\n",
              "</div>"
            ],
            "text/plain": [
              "                                                     title  ... (rating, min)\n",
              "movieId                                                     ...              \n",
              "53                                         Lamerica (1994)  ...           5.0\n",
              "99                    Heidi Fleiss: Hollywood Madam (1995)  ...           5.0\n",
              "148                       Awfully Big Adventure, An (1995)  ...           5.0\n",
              "467                                 Live Nude Girls (1995)  ...           5.0\n",
              "495      In the Realm of the Senses (Ai no corrida) (1976)  ...           5.0\n",
              "...                                                    ...  ...           ...\n",
              "176601                                        Black Mirror  ...           5.0\n",
              "179133                               Loving Vincent (2017)  ...           5.0\n",
              "179135                               Blue Planet II (2017)  ...           5.0\n",
              "184245                             De platte jungle (1978)  ...           5.0\n",
              "187717                    Won't You Be My Neighbor? (2018)  ...           5.0\n",
              "\n",
              "[296 rows x 6 columns]"
            ]
          },
          "metadata": {
            "tags": []
          },
          "execution_count": 127
        }
      ]
    },
    {
      "cell_type": "code",
      "metadata": {
        "id": "B4Stj8H5FAVF",
        "colab": {
          "base_uri": "https://localhost:8080/",
          "height": 112
        },
        "outputId": "a79b64d3-d314-465d-ee88-f955c68f73ba"
      },
      "source": [
        "five_stars[five_stars['title'].str.contains('Belle')]"
      ],
      "id": "B4Stj8H5FAVF",
      "execution_count": 132,
      "outputs": [
        {
          "output_type": "execute_result",
          "data": {
            "text/html": [
              "<div>\n",
              "<style scoped>\n",
              "    .dataframe tbody tr th:only-of-type {\n",
              "        vertical-align: middle;\n",
              "    }\n",
              "\n",
              "    .dataframe tbody tr th {\n",
              "        vertical-align: top;\n",
              "    }\n",
              "\n",
              "    .dataframe thead th {\n",
              "        text-align: right;\n",
              "    }\n",
              "</style>\n",
              "<table border=\"1\" class=\"dataframe\">\n",
              "  <thead>\n",
              "    <tr style=\"text-align: right;\">\n",
              "      <th></th>\n",
              "      <th>title</th>\n",
              "      <th>genres</th>\n",
              "      <th>number_of_ratings</th>\n",
              "      <th>(rating, mean)</th>\n",
              "      <th>(rating, max)</th>\n",
              "      <th>(rating, min)</th>\n",
              "    </tr>\n",
              "    <tr>\n",
              "      <th>movieId</th>\n",
              "      <th></th>\n",
              "      <th></th>\n",
              "      <th></th>\n",
              "      <th></th>\n",
              "      <th></th>\n",
              "      <th></th>\n",
              "    </tr>\n",
              "  </thead>\n",
              "  <tbody>\n",
              "    <tr>\n",
              "      <th>6442</th>\n",
              "      <td>Belle époque (1992)</td>\n",
              "      <td>Comedy|Romance</td>\n",
              "      <td>2.0</td>\n",
              "      <td>5.0</td>\n",
              "      <td>5.0</td>\n",
              "      <td>5.0</td>\n",
              "    </tr>\n",
              "  </tbody>\n",
              "</table>\n",
              "</div>"
            ],
            "text/plain": [
              "                       title          genres  ...  (rating, max)  (rating, min)\n",
              "movieId                                       ...                              \n",
              "6442     Belle époque (1992)  Comedy|Romance  ...            5.0            5.0\n",
              "\n",
              "[1 rows x 6 columns]"
            ]
          },
          "metadata": {
            "tags": []
          },
          "execution_count": 132
        }
      ]
    },
    {
      "cell_type": "markdown",
      "metadata": {
        "id": "bbcc99bc-0c44-43ec-9594-7c9c26d24b4e"
      },
      "source": [
        "The top seems to be movies with very few ratings, only look at movies that have twenty or more ratings."
      ],
      "id": "bbcc99bc-0c44-43ec-9594-7c9c26d24b4e"
    },
    {
      "cell_type": "code",
      "metadata": {
        "id": "1fb4020c-0553-44fc-93c3-5d0df2adb83e",
        "colab": {
          "base_uri": "https://localhost:8080/",
          "height": 112
        },
        "outputId": "aae011ed-96a0-4895-e47a-f01b50a54308"
      },
      "source": [
        "movies_xattr_suff = movies_extended2[movies_extended2.number_of_ratings >= 20]\n",
        "movies_xattr_suff[movies_xattr_suff[('rating', 'mean')] == movies_xattr_suff[('rating', 'mean')].max()]"
      ],
      "id": "1fb4020c-0553-44fc-93c3-5d0df2adb83e",
      "execution_count": 134,
      "outputs": [
        {
          "output_type": "execute_result",
          "data": {
            "text/html": [
              "<div>\n",
              "<style scoped>\n",
              "    .dataframe tbody tr th:only-of-type {\n",
              "        vertical-align: middle;\n",
              "    }\n",
              "\n",
              "    .dataframe tbody tr th {\n",
              "        vertical-align: top;\n",
              "    }\n",
              "\n",
              "    .dataframe thead th {\n",
              "        text-align: right;\n",
              "    }\n",
              "</style>\n",
              "<table border=\"1\" class=\"dataframe\">\n",
              "  <thead>\n",
              "    <tr style=\"text-align: right;\">\n",
              "      <th></th>\n",
              "      <th>title</th>\n",
              "      <th>genres</th>\n",
              "      <th>number_of_ratings</th>\n",
              "      <th>(rating, mean)</th>\n",
              "      <th>(rating, max)</th>\n",
              "      <th>(rating, min)</th>\n",
              "    </tr>\n",
              "    <tr>\n",
              "      <th>movieId</th>\n",
              "      <th></th>\n",
              "      <th></th>\n",
              "      <th></th>\n",
              "      <th></th>\n",
              "      <th></th>\n",
              "      <th></th>\n",
              "    </tr>\n",
              "  </thead>\n",
              "  <tbody>\n",
              "    <tr>\n",
              "      <th>1104</th>\n",
              "      <td>Streetcar Named Desire, A (1951)</td>\n",
              "      <td>Drama</td>\n",
              "      <td>20.0</td>\n",
              "      <td>4.475</td>\n",
              "      <td>5.0</td>\n",
              "      <td>3.0</td>\n",
              "    </tr>\n",
              "  </tbody>\n",
              "</table>\n",
              "</div>"
            ],
            "text/plain": [
              "                                    title genres  ...  (rating, max)  (rating, min)\n",
              "movieId                                           ...                              \n",
              "1104     Streetcar Named Desire, A (1951)  Drama  ...            5.0            3.0\n",
              "\n",
              "[1 rows x 6 columns]"
            ]
          },
          "metadata": {
            "tags": []
          },
          "execution_count": 134
        }
      ]
    },
    {
      "cell_type": "markdown",
      "metadata": {
        "id": "3df7e69c-9f25-4d82-8b76-14f92cde6bf5"
      },
      "source": [
        "# Toy data\n",
        "\n",
        "Before we go into working on collaborative filtering, let's define a toy data set. This is generally good practice if you are working with real-world data sets. Toy data is smaller and you can work faster, but you can also design it in a way that you know the outcome."
      ],
      "id": "3df7e69c-9f25-4d82-8b76-14f92cde6bf5"
    },
    {
      "cell_type": "code",
      "metadata": {
        "id": "bc601f80-3657-45cf-afa8-789d4e71ad21",
        "colab": {
          "base_uri": "https://localhost:8080/",
          "height": 394
        },
        "outputId": "b1dff57c-f9f4-40e5-d5f6-78ef545fd662"
      },
      "source": [
        "toyratings = pd.DataFrame(data={\n",
        "    'userId': [1, 1, 1, 1, 1,\n",
        "              2, 2, 2,\n",
        "              3, 3, 3],\n",
        "    'movieId': [1,2,3,4,8,\n",
        "               1,2,3,\n",
        "               2,3,5],\n",
        "    'rating': [5.0, 4.0, 3.0, 2.0, 1.0,\n",
        "               1.0, 2.0, 3.0,\n",
        "               3.0, 3.0, 3.0],\n",
        "    'timestamp': ['2021-01-01 10:00', '2021-01-02 08:00', '2021-01-03 09:00', '2021-01-04 10:00', '2021-01-05 11:00',\n",
        "                 '2021-01-10 08:00', '2021-01-11 09:00', '2021-01-13 10:00',\n",
        "                '2021-01-07 08:00', '2021-01-09 09:00', '2021-01-11 10:00']\n",
        "                  \n",
        "})\n",
        "toyratings"
      ],
      "id": "bc601f80-3657-45cf-afa8-789d4e71ad21",
      "execution_count": 27,
      "outputs": [
        {
          "output_type": "execute_result",
          "data": {
            "text/html": [
              "<div>\n",
              "<style scoped>\n",
              "    .dataframe tbody tr th:only-of-type {\n",
              "        vertical-align: middle;\n",
              "    }\n",
              "\n",
              "    .dataframe tbody tr th {\n",
              "        vertical-align: top;\n",
              "    }\n",
              "\n",
              "    .dataframe thead th {\n",
              "        text-align: right;\n",
              "    }\n",
              "</style>\n",
              "<table border=\"1\" class=\"dataframe\">\n",
              "  <thead>\n",
              "    <tr style=\"text-align: right;\">\n",
              "      <th></th>\n",
              "      <th>userId</th>\n",
              "      <th>movieId</th>\n",
              "      <th>rating</th>\n",
              "      <th>timestamp</th>\n",
              "    </tr>\n",
              "  </thead>\n",
              "  <tbody>\n",
              "    <tr>\n",
              "      <th>0</th>\n",
              "      <td>1</td>\n",
              "      <td>1</td>\n",
              "      <td>5.0</td>\n",
              "      <td>2021-01-01 10:00</td>\n",
              "    </tr>\n",
              "    <tr>\n",
              "      <th>1</th>\n",
              "      <td>1</td>\n",
              "      <td>2</td>\n",
              "      <td>4.0</td>\n",
              "      <td>2021-01-02 08:00</td>\n",
              "    </tr>\n",
              "    <tr>\n",
              "      <th>2</th>\n",
              "      <td>1</td>\n",
              "      <td>3</td>\n",
              "      <td>3.0</td>\n",
              "      <td>2021-01-03 09:00</td>\n",
              "    </tr>\n",
              "    <tr>\n",
              "      <th>3</th>\n",
              "      <td>1</td>\n",
              "      <td>4</td>\n",
              "      <td>2.0</td>\n",
              "      <td>2021-01-04 10:00</td>\n",
              "    </tr>\n",
              "    <tr>\n",
              "      <th>4</th>\n",
              "      <td>1</td>\n",
              "      <td>8</td>\n",
              "      <td>1.0</td>\n",
              "      <td>2021-01-05 11:00</td>\n",
              "    </tr>\n",
              "    <tr>\n",
              "      <th>5</th>\n",
              "      <td>2</td>\n",
              "      <td>1</td>\n",
              "      <td>1.0</td>\n",
              "      <td>2021-01-10 08:00</td>\n",
              "    </tr>\n",
              "    <tr>\n",
              "      <th>6</th>\n",
              "      <td>2</td>\n",
              "      <td>2</td>\n",
              "      <td>2.0</td>\n",
              "      <td>2021-01-11 09:00</td>\n",
              "    </tr>\n",
              "    <tr>\n",
              "      <th>7</th>\n",
              "      <td>2</td>\n",
              "      <td>3</td>\n",
              "      <td>3.0</td>\n",
              "      <td>2021-01-13 10:00</td>\n",
              "    </tr>\n",
              "    <tr>\n",
              "      <th>8</th>\n",
              "      <td>3</td>\n",
              "      <td>2</td>\n",
              "      <td>3.0</td>\n",
              "      <td>2021-01-07 08:00</td>\n",
              "    </tr>\n",
              "    <tr>\n",
              "      <th>9</th>\n",
              "      <td>3</td>\n",
              "      <td>3</td>\n",
              "      <td>3.0</td>\n",
              "      <td>2021-01-09 09:00</td>\n",
              "    </tr>\n",
              "    <tr>\n",
              "      <th>10</th>\n",
              "      <td>3</td>\n",
              "      <td>5</td>\n",
              "      <td>3.0</td>\n",
              "      <td>2021-01-11 10:00</td>\n",
              "    </tr>\n",
              "  </tbody>\n",
              "</table>\n",
              "</div>"
            ],
            "text/plain": [
              "    userId  movieId  rating         timestamp\n",
              "0        1        1     5.0  2021-01-01 10:00\n",
              "1        1        2     4.0  2021-01-02 08:00\n",
              "2        1        3     3.0  2021-01-03 09:00\n",
              "3        1        4     2.0  2021-01-04 10:00\n",
              "4        1        8     1.0  2021-01-05 11:00\n",
              "5        2        1     1.0  2021-01-10 08:00\n",
              "6        2        2     2.0  2021-01-11 09:00\n",
              "7        2        3     3.0  2021-01-13 10:00\n",
              "8        3        2     3.0  2021-01-07 08:00\n",
              "9        3        3     3.0  2021-01-09 09:00\n",
              "10       3        5     3.0  2021-01-11 10:00"
            ]
          },
          "metadata": {
            "tags": []
          },
          "execution_count": 27
        }
      ]
    },
    {
      "cell_type": "markdown",
      "metadata": {
        "id": "2e9b4b5e-bcee-40d8-9871-1ad799478638"
      },
      "source": [
        "# Collaborative filtering\n",
        "\n",
        "We will now (finally) implement collaborative filtering. For two movies, it looks at the ratings of all users and computes the cosine similarities between these vectors. It might sound simple, but works if you have sufficient amounts of data, and is often a good first version.\n",
        "\n",
        "We're not dealing with this here, but for future reference: It is not personalized, and you don't know how to do recommendations for new items. There are other methods that look at customer events, or take content into account to deal with these kinds of problems. Factorization methods can also help if your data is very sparse.\n",
        "\n",
        "Implement a function that takes the ratings dataframe and returns a dataframe which contains movie to movie similarities. You can convert the dataframe to a numpy array to work with matrix algebra. Try to avoid using explicit for loops."
      ],
      "id": "2e9b4b5e-bcee-40d8-9871-1ad799478638"
    },
    {
      "cell_type": "code",
      "metadata": {
        "id": "NkWbRmLmC-C3"
      },
      "source": [
        "large_width = 500\n",
        "np.set_printoptions(linewidth=large_width)"
      ],
      "id": "NkWbRmLmC-C3",
      "execution_count": 28,
      "outputs": []
    },
    {
      "cell_type": "code",
      "metadata": {
        "id": "55842a21-5b1e-4bbd-baa0-bd33087216e1",
        "colab": {
          "base_uri": "https://localhost:8080/",
          "height": 269
        },
        "outputId": "02e88d07-753f-4adf-8685-6c86d688b716"
      },
      "source": [
        "def collaborative_filtering(ratings):\n",
        "    # TODO: Make sure the are always sorted by userId, then by moviId\n",
        "    tmp = pd.DataFrame(ratings[['movieId', 'userId', 'rating']]).set_index(['userId'])\n",
        "    tmp = tmp.pivot_table(values='rating',\n",
        "                          index=tmp.index,\n",
        "                          columns='movieId',\n",
        "                          aggfunc='first')\n",
        "    userIds = tmp.index.values\n",
        "    movieIds = tmp.columns.values\n",
        "    # tmp has still nan entries.\n",
        "    # For now we just fill them with zero\n",
        "    user_item = tmp.to_numpy(na_value=0)\n",
        "    # Add a centered approach would properably beneficial\n",
        "    item_sim = user_item.T @ user_item\n",
        "    norms = np.array([np.sqrt(np.diagonal(item_sim))])\n",
        "    N = norms.T @ norms\n",
        "    sim = item_sim / N\n",
        "    sim_df = pd.DataFrame(sim, index=movieIds, columns=movieIds)\n",
        "    sim_df.index.name = 'movieId'    \n",
        "    return sim_df\n",
        "\n",
        "collaborative_filtering(toyratings)"
      ],
      "id": "55842a21-5b1e-4bbd-baa0-bd33087216e1",
      "execution_count": 29,
      "outputs": [
        {
          "output_type": "execute_result",
          "data": {
            "text/html": [
              "<div>\n",
              "<style scoped>\n",
              "    .dataframe tbody tr th:only-of-type {\n",
              "        vertical-align: middle;\n",
              "    }\n",
              "\n",
              "    .dataframe tbody tr th {\n",
              "        vertical-align: top;\n",
              "    }\n",
              "\n",
              "    .dataframe thead th {\n",
              "        text-align: right;\n",
              "    }\n",
              "</style>\n",
              "<table border=\"1\" class=\"dataframe\">\n",
              "  <thead>\n",
              "    <tr style=\"text-align: right;\">\n",
              "      <th></th>\n",
              "      <th>1</th>\n",
              "      <th>2</th>\n",
              "      <th>3</th>\n",
              "      <th>4</th>\n",
              "      <th>5</th>\n",
              "      <th>8</th>\n",
              "    </tr>\n",
              "    <tr>\n",
              "      <th>movieId</th>\n",
              "      <th></th>\n",
              "      <th></th>\n",
              "      <th></th>\n",
              "      <th></th>\n",
              "      <th></th>\n",
              "      <th></th>\n",
              "    </tr>\n",
              "  </thead>\n",
              "  <tbody>\n",
              "    <tr>\n",
              "      <th>1</th>\n",
              "      <td>1.000000</td>\n",
              "      <td>0.801193</td>\n",
              "      <td>0.679366</td>\n",
              "      <td>0.980581</td>\n",
              "      <td>0.000000</td>\n",
              "      <td>0.980581</td>\n",
              "    </tr>\n",
              "    <tr>\n",
              "      <th>2</th>\n",
              "      <td>0.801193</td>\n",
              "      <td>1.000000</td>\n",
              "      <td>0.964901</td>\n",
              "      <td>0.742781</td>\n",
              "      <td>0.557086</td>\n",
              "      <td>0.742781</td>\n",
              "    </tr>\n",
              "    <tr>\n",
              "      <th>3</th>\n",
              "      <td>0.679366</td>\n",
              "      <td>0.964901</td>\n",
              "      <td>1.000000</td>\n",
              "      <td>0.577350</td>\n",
              "      <td>0.577350</td>\n",
              "      <td>0.577350</td>\n",
              "    </tr>\n",
              "    <tr>\n",
              "      <th>4</th>\n",
              "      <td>0.980581</td>\n",
              "      <td>0.742781</td>\n",
              "      <td>0.577350</td>\n",
              "      <td>1.000000</td>\n",
              "      <td>0.000000</td>\n",
              "      <td>1.000000</td>\n",
              "    </tr>\n",
              "    <tr>\n",
              "      <th>5</th>\n",
              "      <td>0.000000</td>\n",
              "      <td>0.557086</td>\n",
              "      <td>0.577350</td>\n",
              "      <td>0.000000</td>\n",
              "      <td>1.000000</td>\n",
              "      <td>0.000000</td>\n",
              "    </tr>\n",
              "    <tr>\n",
              "      <th>8</th>\n",
              "      <td>0.980581</td>\n",
              "      <td>0.742781</td>\n",
              "      <td>0.577350</td>\n",
              "      <td>1.000000</td>\n",
              "      <td>0.000000</td>\n",
              "      <td>1.000000</td>\n",
              "    </tr>\n",
              "  </tbody>\n",
              "</table>\n",
              "</div>"
            ],
            "text/plain": [
              "                1         2         3         4         5         8\n",
              "movieId                                                            \n",
              "1        1.000000  0.801193  0.679366  0.980581  0.000000  0.980581\n",
              "2        0.801193  1.000000  0.964901  0.742781  0.557086  0.742781\n",
              "3        0.679366  0.964901  1.000000  0.577350  0.577350  0.577350\n",
              "4        0.980581  0.742781  0.577350  1.000000  0.000000  1.000000\n",
              "5        0.000000  0.557086  0.577350  0.000000  1.000000  0.000000\n",
              "8        0.980581  0.742781  0.577350  1.000000  0.000000  1.000000"
            ]
          },
          "metadata": {
            "tags": []
          },
          "execution_count": 29
        }
      ]
    },
    {
      "cell_type": "markdown",
      "metadata": {
        "id": "baf976e1-57ad-46cf-8862-8c15e19e3953"
      },
      "source": [
        "Let's store the result in the _sims_ variable for the full rating data set and in the _ts_ variable for the toyratings."
      ],
      "id": "baf976e1-57ad-46cf-8862-8c15e19e3953"
    },
    {
      "cell_type": "code",
      "metadata": {
        "id": "fd3d9d24-743a-4bc4-a072-056fe2247548",
        "colab": {
          "base_uri": "https://localhost:8080/",
          "height": 269
        },
        "outputId": "b6724aca-923f-4b06-8769-05f2a2c8980e"
      },
      "source": [
        "sims = collaborative_filtering(ratings)\n",
        "sims\n",
        "\n",
        "ts = collaborative_filtering(toyratings)\n",
        "ts"
      ],
      "id": "fd3d9d24-743a-4bc4-a072-056fe2247548",
      "execution_count": 30,
      "outputs": [
        {
          "output_type": "execute_result",
          "data": {
            "text/html": [
              "<div>\n",
              "<style scoped>\n",
              "    .dataframe tbody tr th:only-of-type {\n",
              "        vertical-align: middle;\n",
              "    }\n",
              "\n",
              "    .dataframe tbody tr th {\n",
              "        vertical-align: top;\n",
              "    }\n",
              "\n",
              "    .dataframe thead th {\n",
              "        text-align: right;\n",
              "    }\n",
              "</style>\n",
              "<table border=\"1\" class=\"dataframe\">\n",
              "  <thead>\n",
              "    <tr style=\"text-align: right;\">\n",
              "      <th></th>\n",
              "      <th>1</th>\n",
              "      <th>2</th>\n",
              "      <th>3</th>\n",
              "      <th>4</th>\n",
              "      <th>5</th>\n",
              "      <th>8</th>\n",
              "    </tr>\n",
              "    <tr>\n",
              "      <th>movieId</th>\n",
              "      <th></th>\n",
              "      <th></th>\n",
              "      <th></th>\n",
              "      <th></th>\n",
              "      <th></th>\n",
              "      <th></th>\n",
              "    </tr>\n",
              "  </thead>\n",
              "  <tbody>\n",
              "    <tr>\n",
              "      <th>1</th>\n",
              "      <td>1.000000</td>\n",
              "      <td>0.801193</td>\n",
              "      <td>0.679366</td>\n",
              "      <td>0.980581</td>\n",
              "      <td>0.000000</td>\n",
              "      <td>0.980581</td>\n",
              "    </tr>\n",
              "    <tr>\n",
              "      <th>2</th>\n",
              "      <td>0.801193</td>\n",
              "      <td>1.000000</td>\n",
              "      <td>0.964901</td>\n",
              "      <td>0.742781</td>\n",
              "      <td>0.557086</td>\n",
              "      <td>0.742781</td>\n",
              "    </tr>\n",
              "    <tr>\n",
              "      <th>3</th>\n",
              "      <td>0.679366</td>\n",
              "      <td>0.964901</td>\n",
              "      <td>1.000000</td>\n",
              "      <td>0.577350</td>\n",
              "      <td>0.577350</td>\n",
              "      <td>0.577350</td>\n",
              "    </tr>\n",
              "    <tr>\n",
              "      <th>4</th>\n",
              "      <td>0.980581</td>\n",
              "      <td>0.742781</td>\n",
              "      <td>0.577350</td>\n",
              "      <td>1.000000</td>\n",
              "      <td>0.000000</td>\n",
              "      <td>1.000000</td>\n",
              "    </tr>\n",
              "    <tr>\n",
              "      <th>5</th>\n",
              "      <td>0.000000</td>\n",
              "      <td>0.557086</td>\n",
              "      <td>0.577350</td>\n",
              "      <td>0.000000</td>\n",
              "      <td>1.000000</td>\n",
              "      <td>0.000000</td>\n",
              "    </tr>\n",
              "    <tr>\n",
              "      <th>8</th>\n",
              "      <td>0.980581</td>\n",
              "      <td>0.742781</td>\n",
              "      <td>0.577350</td>\n",
              "      <td>1.000000</td>\n",
              "      <td>0.000000</td>\n",
              "      <td>1.000000</td>\n",
              "    </tr>\n",
              "  </tbody>\n",
              "</table>\n",
              "</div>"
            ],
            "text/plain": [
              "                1         2         3         4         5         8\n",
              "movieId                                                            \n",
              "1        1.000000  0.801193  0.679366  0.980581  0.000000  0.980581\n",
              "2        0.801193  1.000000  0.964901  0.742781  0.557086  0.742781\n",
              "3        0.679366  0.964901  1.000000  0.577350  0.577350  0.577350\n",
              "4        0.980581  0.742781  0.577350  1.000000  0.000000  1.000000\n",
              "5        0.000000  0.557086  0.577350  0.000000  1.000000  0.000000\n",
              "8        0.980581  0.742781  0.577350  1.000000  0.000000  1.000000"
            ]
          },
          "metadata": {
            "tags": []
          },
          "execution_count": 30
        }
      ]
    },
    {
      "cell_type": "markdown",
      "metadata": {
        "id": "d7cb5ba7-5286-4762-a694-b5cd6292aa9b"
      },
      "source": [
        "For getting recommendations quickly, let create another dataframe where each row is the ids of the recommendations. We get this by sorting the rows of the similarity dataframe.\n",
        "\n",
        "Write a function _allrecos_ that takes the similarity matrix computed by _collaborative_filtering_ and returns another dataframe with the values such that the first column is the movie itself (highest similarity), the second column is the second most similar, and so on..."
      ],
      "id": "d7cb5ba7-5286-4762-a694-b5cd6292aa9b"
    },
    {
      "cell_type": "code",
      "metadata": {
        "id": "724d0c65-3f94-4ee2-ba75-21289d281612"
      },
      "source": [
        "def allrecos(sims):\n",
        "    # dataframe: movie_id with highest sim, movie_id\n",
        "    movie_ids = sims.columns.values\n",
        "    recos = sims.copy()\n",
        "    \n",
        "    def sorting_by_sim(row):\n",
        "      idx_movie_ids = movie_ids\n",
        "      sim_ids = list(zip(row, idx_movie_ids))\n",
        "      return [item[1] for item in sorted(sim_ids, reverse=True)]\n",
        "\n",
        "    # Since we don't want to list the movie itself as a recommendation for this movie\n",
        "    # we set the similarity to -1\n",
        "    np.fill_diagonal(recos.values, -1)\n",
        "    \n",
        "    # Order the rows by similarity\n",
        "    recos = recos.apply(lambda row: sorting_by_sim(row), axis=1, result_type='expand')\n",
        "    \n",
        "    # Add column labels\n",
        "    recos.columns = [f'{pos}.' for pos in range(1, sims.shape[0]+1)]\n",
        "    # Drop the last column which contains the same movieId as the index\n",
        "    return recos.iloc[:, :-1]\n",
        "\n",
        "recos = allrecos(sims)\n",
        "#recos = allrecos(ts)\n",
        "#recos"
      ],
      "id": "724d0c65-3f94-4ee2-ba75-21289d281612",
      "execution_count": 31,
      "outputs": []
    },
    {
      "cell_type": "markdown",
      "metadata": {
        "id": "c2a64fd7-0f9c-4397-901e-aa0c8c993e2a"
      },
      "source": [
        "Finally, we define the function getReco that takes the recommendation dataframe, a movie id, and optinally a number of items to recommend and returns a "
      ],
      "id": "c2a64fd7-0f9c-4397-901e-aa0c8c993e2a"
    },
    {
      "cell_type": "code",
      "metadata": {
        "id": "9164756d-8d7e-42ad-8141-a8ef99f85fe5",
        "colab": {
          "base_uri": "https://localhost:8080/"
        },
        "outputId": "4667e395-7d5f-4a76-add2-3b4162ef0a39"
      },
      "source": [
        "def getReco(recos, movie_id, n=10):\n",
        "  return recos.loc[movie_id, recos.columns[:n]]\n",
        "\n",
        "getReco(recos, 1)"
      ],
      "id": "9164756d-8d7e-42ad-8141-a8ef99f85fe5",
      "execution_count": 32,
      "outputs": [
        {
          "output_type": "execute_result",
          "data": {
            "text/plain": [
              "1.     3114\n",
              "2.      480\n",
              "3.      780\n",
              "4.      260\n",
              "5.      356\n",
              "6.      364\n",
              "7.     1210\n",
              "8.      648\n",
              "9.     1265\n",
              "10.    1270\n",
              "Name: 1, dtype: int64"
            ]
          },
          "metadata": {
            "tags": []
          },
          "execution_count": 32
        }
      ]
    },
    {
      "cell_type": "markdown",
      "metadata": {
        "id": "cc13f84a-e49e-4c70-9ddd-0dcec3f06c77"
      },
      "source": [
        "As we did above, if we join with the movies table we can also see what we're recommending.\n",
        "\n",
        "Write a function `printReco` that takes the recommendation table, a movie id, optionally a number of recommendations to return and joins the information from the movies table to the recommendations. Make it also output the title of the passed movie id.\n",
        "\n",
        "Hint: you can use to_frame(name='movieId') to turn the recommendations into a dataframe that can be joined more easily with the movies dataframe."
      ],
      "id": "cc13f84a-e49e-4c70-9ddd-0dcec3f06c77"
    },
    {
      "cell_type": "code",
      "metadata": {
        "id": "fa93facc-4ef2-436c-aa2f-74e12b72cb2e",
        "colab": {
          "base_uri": "https://localhost:8080/",
          "height": 412
        },
        "outputId": "7f268393-0bcf-4ee6-ce28-eaa3076e17cf"
      },
      "source": [
        "def printReco(recos, movie_id, n=10):\n",
        "    tmp = getReco(recos, movie_id, n).to_frame(name='movieId')\n",
        "    title = movies.loc[movie_id, 'title']  \n",
        "    printable_reco = tmp.join(movies, on='movieId')\n",
        "    printable_reco.index.name = 'Rank'\n",
        "    \n",
        "    print(f'The top-{n} recommendations for {title}:')\n",
        "    display(printable_reco)\n",
        "\n",
        "printReco(recos, 1)"
      ],
      "id": "fa93facc-4ef2-436c-aa2f-74e12b72cb2e",
      "execution_count": 33,
      "outputs": [
        {
          "output_type": "stream",
          "text": [
            "The top-10 recommendations for Toy Story (1995):\n"
          ],
          "name": "stdout"
        },
        {
          "output_type": "display_data",
          "data": {
            "text/html": [
              "<div>\n",
              "<style scoped>\n",
              "    .dataframe tbody tr th:only-of-type {\n",
              "        vertical-align: middle;\n",
              "    }\n",
              "\n",
              "    .dataframe tbody tr th {\n",
              "        vertical-align: top;\n",
              "    }\n",
              "\n",
              "    .dataframe thead th {\n",
              "        text-align: right;\n",
              "    }\n",
              "</style>\n",
              "<table border=\"1\" class=\"dataframe\">\n",
              "  <thead>\n",
              "    <tr style=\"text-align: right;\">\n",
              "      <th></th>\n",
              "      <th>movieId</th>\n",
              "      <th>title</th>\n",
              "      <th>genres</th>\n",
              "    </tr>\n",
              "    <tr>\n",
              "      <th>Rank</th>\n",
              "      <th></th>\n",
              "      <th></th>\n",
              "      <th></th>\n",
              "    </tr>\n",
              "  </thead>\n",
              "  <tbody>\n",
              "    <tr>\n",
              "      <th>1.</th>\n",
              "      <td>3114</td>\n",
              "      <td>Toy Story 2 (1999)</td>\n",
              "      <td>Adventure|Animation|Children|Comedy|Fantasy</td>\n",
              "    </tr>\n",
              "    <tr>\n",
              "      <th>2.</th>\n",
              "      <td>480</td>\n",
              "      <td>Jurassic Park (1993)</td>\n",
              "      <td>Action|Adventure|Sci-Fi|Thriller</td>\n",
              "    </tr>\n",
              "    <tr>\n",
              "      <th>3.</th>\n",
              "      <td>780</td>\n",
              "      <td>Independence Day (a.k.a. ID4) (1996)</td>\n",
              "      <td>Action|Adventure|Sci-Fi|Thriller</td>\n",
              "    </tr>\n",
              "    <tr>\n",
              "      <th>4.</th>\n",
              "      <td>260</td>\n",
              "      <td>Star Wars: Episode IV - A New Hope (1977)</td>\n",
              "      <td>Action|Adventure|Sci-Fi</td>\n",
              "    </tr>\n",
              "    <tr>\n",
              "      <th>5.</th>\n",
              "      <td>356</td>\n",
              "      <td>Forrest Gump (1994)</td>\n",
              "      <td>Comedy|Drama|Romance|War</td>\n",
              "    </tr>\n",
              "    <tr>\n",
              "      <th>6.</th>\n",
              "      <td>364</td>\n",
              "      <td>Lion King, The (1994)</td>\n",
              "      <td>Adventure|Animation|Children|Drama|Musical|IMAX</td>\n",
              "    </tr>\n",
              "    <tr>\n",
              "      <th>7.</th>\n",
              "      <td>1210</td>\n",
              "      <td>Star Wars: Episode VI - Return of the Jedi (1983)</td>\n",
              "      <td>Action|Adventure|Sci-Fi</td>\n",
              "    </tr>\n",
              "    <tr>\n",
              "      <th>8.</th>\n",
              "      <td>648</td>\n",
              "      <td>Mission: Impossible (1996)</td>\n",
              "      <td>Action|Adventure|Mystery|Thriller</td>\n",
              "    </tr>\n",
              "    <tr>\n",
              "      <th>9.</th>\n",
              "      <td>1265</td>\n",
              "      <td>Groundhog Day (1993)</td>\n",
              "      <td>Comedy|Fantasy|Romance</td>\n",
              "    </tr>\n",
              "    <tr>\n",
              "      <th>10.</th>\n",
              "      <td>1270</td>\n",
              "      <td>Back to the Future (1985)</td>\n",
              "      <td>Adventure|Comedy|Sci-Fi</td>\n",
              "    </tr>\n",
              "  </tbody>\n",
              "</table>\n",
              "</div>"
            ],
            "text/plain": [
              "      movieId  ...                                           genres\n",
              "Rank           ...                                                 \n",
              "1.       3114  ...      Adventure|Animation|Children|Comedy|Fantasy\n",
              "2.        480  ...                 Action|Adventure|Sci-Fi|Thriller\n",
              "3.        780  ...                 Action|Adventure|Sci-Fi|Thriller\n",
              "4.        260  ...                          Action|Adventure|Sci-Fi\n",
              "5.        356  ...                         Comedy|Drama|Romance|War\n",
              "6.        364  ...  Adventure|Animation|Children|Drama|Musical|IMAX\n",
              "7.       1210  ...                          Action|Adventure|Sci-Fi\n",
              "8.        648  ...                Action|Adventure|Mystery|Thriller\n",
              "9.       1265  ...                           Comedy|Fantasy|Romance\n",
              "10.      1270  ...                          Adventure|Comedy|Sci-Fi\n",
              "\n",
              "[10 rows x 3 columns]"
            ]
          },
          "metadata": {
            "tags": []
          }
        }
      ]
    },
    {
      "cell_type": "markdown",
      "metadata": {
        "id": "12848a69-2867-4b1d-9f61-bca30e7b32d7"
      },
      "source": [
        "What are the recommendations for the first Matrix movie?"
      ],
      "id": "12848a69-2867-4b1d-9f61-bca30e7b32d7"
    },
    {
      "cell_type": "code",
      "metadata": {
        "id": "f87e161b-dc2a-4650-948e-69f4d4d7f92f",
        "colab": {
          "base_uri": "https://localhost:8080/",
          "height": 412
        },
        "outputId": "43b16aab-f238-40c2-8843-3a7bd0009fdc"
      },
      "source": [
        "find_movie_by_title('Matrix')\n",
        "movieId = 2571\n",
        "printReco(recos, movieId)"
      ],
      "id": "f87e161b-dc2a-4650-948e-69f4d4d7f92f",
      "execution_count": 34,
      "outputs": [
        {
          "output_type": "stream",
          "text": [
            "The top-10 recommendations for Matrix, The (1999):\n"
          ],
          "name": "stdout"
        },
        {
          "output_type": "display_data",
          "data": {
            "text/html": [
              "<div>\n",
              "<style scoped>\n",
              "    .dataframe tbody tr th:only-of-type {\n",
              "        vertical-align: middle;\n",
              "    }\n",
              "\n",
              "    .dataframe tbody tr th {\n",
              "        vertical-align: top;\n",
              "    }\n",
              "\n",
              "    .dataframe thead th {\n",
              "        text-align: right;\n",
              "    }\n",
              "</style>\n",
              "<table border=\"1\" class=\"dataframe\">\n",
              "  <thead>\n",
              "    <tr style=\"text-align: right;\">\n",
              "      <th></th>\n",
              "      <th>movieId</th>\n",
              "      <th>title</th>\n",
              "      <th>genres</th>\n",
              "    </tr>\n",
              "    <tr>\n",
              "      <th>Rank</th>\n",
              "      <th></th>\n",
              "      <th></th>\n",
              "      <th></th>\n",
              "    </tr>\n",
              "  </thead>\n",
              "  <tbody>\n",
              "    <tr>\n",
              "      <th>1.</th>\n",
              "      <td>2959</td>\n",
              "      <td>Fight Club (1999)</td>\n",
              "      <td>Action|Crime|Drama|Thriller</td>\n",
              "    </tr>\n",
              "    <tr>\n",
              "      <th>2.</th>\n",
              "      <td>1196</td>\n",
              "      <td>Star Wars: Episode V - The Empire Strikes Back...</td>\n",
              "      <td>Action|Adventure|Sci-Fi</td>\n",
              "    </tr>\n",
              "    <tr>\n",
              "      <th>3.</th>\n",
              "      <td>2028</td>\n",
              "      <td>Saving Private Ryan (1998)</td>\n",
              "      <td>Action|Drama|War</td>\n",
              "    </tr>\n",
              "    <tr>\n",
              "      <th>4.</th>\n",
              "      <td>260</td>\n",
              "      <td>Star Wars: Episode IV - A New Hope (1977)</td>\n",
              "      <td>Action|Adventure|Sci-Fi</td>\n",
              "    </tr>\n",
              "    <tr>\n",
              "      <th>5.</th>\n",
              "      <td>1210</td>\n",
              "      <td>Star Wars: Episode VI - Return of the Jedi (1983)</td>\n",
              "      <td>Action|Adventure|Sci-Fi</td>\n",
              "    </tr>\n",
              "    <tr>\n",
              "      <th>6.</th>\n",
              "      <td>4993</td>\n",
              "      <td>Lord of the Rings: The Fellowship of the Ring,...</td>\n",
              "      <td>Adventure|Fantasy</td>\n",
              "    </tr>\n",
              "    <tr>\n",
              "      <th>7.</th>\n",
              "      <td>2762</td>\n",
              "      <td>Sixth Sense, The (1999)</td>\n",
              "      <td>Drama|Horror|Mystery</td>\n",
              "    </tr>\n",
              "    <tr>\n",
              "      <th>8.</th>\n",
              "      <td>7153</td>\n",
              "      <td>Lord of the Rings: The Return of the King, The...</td>\n",
              "      <td>Action|Adventure|Drama|Fantasy</td>\n",
              "    </tr>\n",
              "    <tr>\n",
              "      <th>9.</th>\n",
              "      <td>1198</td>\n",
              "      <td>Raiders of the Lost Ark (Indiana Jones and the...</td>\n",
              "      <td>Action|Adventure</td>\n",
              "    </tr>\n",
              "    <tr>\n",
              "      <th>10.</th>\n",
              "      <td>3578</td>\n",
              "      <td>Gladiator (2000)</td>\n",
              "      <td>Action|Adventure|Drama</td>\n",
              "    </tr>\n",
              "  </tbody>\n",
              "</table>\n",
              "</div>"
            ],
            "text/plain": [
              "      movieId  ...                          genres\n",
              "Rank           ...                                \n",
              "1.       2959  ...     Action|Crime|Drama|Thriller\n",
              "2.       1196  ...         Action|Adventure|Sci-Fi\n",
              "3.       2028  ...                Action|Drama|War\n",
              "4.        260  ...         Action|Adventure|Sci-Fi\n",
              "5.       1210  ...         Action|Adventure|Sci-Fi\n",
              "6.       4993  ...               Adventure|Fantasy\n",
              "7.       2762  ...            Drama|Horror|Mystery\n",
              "8.       7153  ...  Action|Adventure|Drama|Fantasy\n",
              "9.       1198  ...                Action|Adventure\n",
              "10.      3578  ...          Action|Adventure|Drama\n",
              "\n",
              "[10 rows x 3 columns]"
            ]
          },
          "metadata": {
            "tags": []
          }
        }
      ]
    },
    {
      "cell_type": "markdown",
      "metadata": {
        "id": "87c43136-1614-40a5-8779-64a341c15ac2"
      },
      "source": [
        "What are the recommendations to 'When Harry Met Sally'?"
      ],
      "id": "87c43136-1614-40a5-8779-64a341c15ac2"
    },
    {
      "cell_type": "code",
      "metadata": {
        "id": "abfe6c01-0df2-4b3b-b5a8-7ad1fd1817f9",
        "colab": {
          "base_uri": "https://localhost:8080/",
          "height": 412
        },
        "outputId": "70e679d3-dbba-4a8a-9a96-201480cc8854"
      },
      "source": [
        "find_movie_by_title('When Harry Met Sally')\n",
        "movieId = 1307\n",
        "printReco(recos, movieId)"
      ],
      "id": "abfe6c01-0df2-4b3b-b5a8-7ad1fd1817f9",
      "execution_count": 35,
      "outputs": [
        {
          "output_type": "stream",
          "text": [
            "The top-10 recommendations for When Harry Met Sally... (1989):\n"
          ],
          "name": "stdout"
        },
        {
          "output_type": "display_data",
          "data": {
            "text/html": [
              "<div>\n",
              "<style scoped>\n",
              "    .dataframe tbody tr th:only-of-type {\n",
              "        vertical-align: middle;\n",
              "    }\n",
              "\n",
              "    .dataframe tbody tr th {\n",
              "        vertical-align: top;\n",
              "    }\n",
              "\n",
              "    .dataframe thead th {\n",
              "        text-align: right;\n",
              "    }\n",
              "</style>\n",
              "<table border=\"1\" class=\"dataframe\">\n",
              "  <thead>\n",
              "    <tr style=\"text-align: right;\">\n",
              "      <th></th>\n",
              "      <th>movieId</th>\n",
              "      <th>title</th>\n",
              "      <th>genres</th>\n",
              "    </tr>\n",
              "    <tr>\n",
              "      <th>Rank</th>\n",
              "      <th></th>\n",
              "      <th></th>\n",
              "      <th></th>\n",
              "    </tr>\n",
              "  </thead>\n",
              "  <tbody>\n",
              "    <tr>\n",
              "      <th>1.</th>\n",
              "      <td>2797</td>\n",
              "      <td>Big (1988)</td>\n",
              "      <td>Comedy|Drama|Fantasy|Romance</td>\n",
              "    </tr>\n",
              "    <tr>\n",
              "      <th>2.</th>\n",
              "      <td>1265</td>\n",
              "      <td>Groundhog Day (1993)</td>\n",
              "      <td>Comedy|Fantasy|Romance</td>\n",
              "    </tr>\n",
              "    <tr>\n",
              "      <th>3.</th>\n",
              "      <td>1968</td>\n",
              "      <td>Breakfast Club, The (1985)</td>\n",
              "      <td>Comedy|Drama</td>\n",
              "    </tr>\n",
              "    <tr>\n",
              "      <th>4.</th>\n",
              "      <td>2396</td>\n",
              "      <td>Shakespeare in Love (1998)</td>\n",
              "      <td>Comedy|Drama|Romance</td>\n",
              "    </tr>\n",
              "    <tr>\n",
              "      <th>5.</th>\n",
              "      <td>1393</td>\n",
              "      <td>Jerry Maguire (1996)</td>\n",
              "      <td>Drama|Romance</td>\n",
              "    </tr>\n",
              "    <tr>\n",
              "      <th>6.</th>\n",
              "      <td>1259</td>\n",
              "      <td>Stand by Me (1986)</td>\n",
              "      <td>Adventure|Drama</td>\n",
              "    </tr>\n",
              "    <tr>\n",
              "      <th>7.</th>\n",
              "      <td>1097</td>\n",
              "      <td>E.T. the Extra-Terrestrial (1982)</td>\n",
              "      <td>Children|Drama|Sci-Fi</td>\n",
              "    </tr>\n",
              "    <tr>\n",
              "      <th>8.</th>\n",
              "      <td>2716</td>\n",
              "      <td>Ghostbusters (a.k.a. Ghost Busters) (1984)</td>\n",
              "      <td>Action|Comedy|Sci-Fi</td>\n",
              "    </tr>\n",
              "    <tr>\n",
              "      <th>9.</th>\n",
              "      <td>2100</td>\n",
              "      <td>Splash (1984)</td>\n",
              "      <td>Comedy|Fantasy|Romance</td>\n",
              "    </tr>\n",
              "    <tr>\n",
              "      <th>10.</th>\n",
              "      <td>1028</td>\n",
              "      <td>Mary Poppins (1964)</td>\n",
              "      <td>Children|Comedy|Fantasy|Musical</td>\n",
              "    </tr>\n",
              "  </tbody>\n",
              "</table>\n",
              "</div>"
            ],
            "text/plain": [
              "      movieId  ...                           genres\n",
              "Rank           ...                                 \n",
              "1.       2797  ...     Comedy|Drama|Fantasy|Romance\n",
              "2.       1265  ...           Comedy|Fantasy|Romance\n",
              "3.       1968  ...                     Comedy|Drama\n",
              "4.       2396  ...             Comedy|Drama|Romance\n",
              "5.       1393  ...                    Drama|Romance\n",
              "6.       1259  ...                  Adventure|Drama\n",
              "7.       1097  ...            Children|Drama|Sci-Fi\n",
              "8.       2716  ...             Action|Comedy|Sci-Fi\n",
              "9.       2100  ...           Comedy|Fantasy|Romance\n",
              "10.      1028  ...  Children|Comedy|Fantasy|Musical\n",
              "\n",
              "[10 rows x 3 columns]"
            ]
          },
          "metadata": {
            "tags": []
          }
        }
      ]
    },
    {
      "cell_type": "markdown",
      "metadata": {
        "id": "44f05b14-845a-4019-8a7b-9be025c4e100"
      },
      "source": [
        "# Now let's compute some metrics\n",
        "\n",
        "As you hopefully saw from the above examples, the algorithm seems to be making more or less sense. However, in practice, you'll want to define some metrics that can objectively measure how well the algorithm works. We're looking at two measures here, views@n and mean reciprocal rank@n.\n",
        "\n",
        "The \"@n\" part measures how many recommendations you want.\n",
        "\n",
        "views@n measure the percentage of recommendations that contained the next movie viewed by a users.\n",
        "\n",
        "mrr@n measures the mean reciprocal rank: you take the position p of the item that has been viewed and take the 1/p and then take the mean over all recommendations.\n",
        "\n",
        "This setting simulates a setting where we would have shown our recommendations after each view and measures whether we were able to recommend something that people viewed.\n",
        "\n",
        "The analysis is very simple and also incorrect strictly speaking because our model has been trained on the views we are using to evaluate. Since the model is very simple, we'll probably not see overfitting."
      ],
      "id": "44f05b14-845a-4019-8a7b-9be025c4e100"
    },
    {
      "cell_type": "markdown",
      "metadata": {
        "id": "b9b65e26-f3fc-4840-9ed2-e3644f095bb2"
      },
      "source": [
        "## Looking at the next recommendation\n",
        "\n",
        "As a first step, we need to collect pairs of movieId and next movieId from the ratings. The ratings table is already sorted by userIds, but the times are bit all over the place. Sort the ratings table first by userId and timestamp.\n",
        "\n",
        "I personally didn't find a good way to do this with pandas operations, so iterate over the whole table. Or try to find a better solutions!\n",
        "\n",
        "The end result should be a dataframe with the columns userId, movieId, nextMovieId, timestamp (of the first view)."
      ],
      "id": "b9b65e26-f3fc-4840-9ed2-e3644f095bb2"
    },
    {
      "cell_type": "code",
      "metadata": {
        "id": "ad41e867-72c8-4e7a-8fe2-eeaa75acb28d",
        "colab": {
          "base_uri": "https://localhost:8080/",
          "height": 49
        },
        "outputId": "cd59ea08-bccb-4030-b1f4-a635570d3e42"
      },
      "source": [
        "# create a new dataframe with nextMovieId, if that is given in the same session.\n",
        "\n",
        "ratings = ratings.sort_values(by=['userId', 'timestamp'])\n",
        "\n",
        "nextviews = ratings.assign(nextMovieId=ratings.groupby('userId').movieId.shift(-1))[['userId', 'movieId','nextMovieId', 'timestamp']]\n",
        "nextviews.nextMovieId = nextviews.nextMovieId.astype('Int64')\n",
        "# delete NAs ?\n",
        "nextviews = nextviews[~pd.isna(nextviews['nextMovieId'])]"
      ],
      "id": "ad41e867-72c8-4e7a-8fe2-eeaa75acb28d",
      "execution_count": 143,
      "outputs": [
        {
          "output_type": "execute_result",
          "data": {
            "text/html": [
              "<div>\n",
              "<style scoped>\n",
              "    .dataframe tbody tr th:only-of-type {\n",
              "        vertical-align: middle;\n",
              "    }\n",
              "\n",
              "    .dataframe tbody tr th {\n",
              "        vertical-align: top;\n",
              "    }\n",
              "\n",
              "    .dataframe thead th {\n",
              "        text-align: right;\n",
              "    }\n",
              "</style>\n",
              "<table border=\"1\" class=\"dataframe\">\n",
              "  <thead>\n",
              "    <tr style=\"text-align: right;\">\n",
              "      <th></th>\n",
              "      <th>userId</th>\n",
              "      <th>movieId</th>\n",
              "      <th>nextMovieId</th>\n",
              "      <th>timestamp</th>\n",
              "    </tr>\n",
              "  </thead>\n",
              "  <tbody>\n",
              "  </tbody>\n",
              "</table>\n",
              "</div>"
            ],
            "text/plain": [
              "Empty DataFrame\n",
              "Columns: [userId, movieId, nextMovieId, timestamp]\n",
              "Index: []"
            ]
          },
          "metadata": {
            "tags": []
          },
          "execution_count": 143
        }
      ]
    },
    {
      "cell_type": "markdown",
      "metadata": {
        "id": "6c4d96ba-8818-42a1-ae3b-3c8ae0b592c5"
      },
      "source": [
        "## Computing views@n\n",
        "\n",
        "Now implement a function that computes the views@n metric.\n",
        "\n",
        "Hint: Using \"axis=1\" in DataFrame#apply let's you run a function over the rows of a data frame. Define a helper function that gets the recommendations via getReco defined above and checks whether the nextMovieId is in the recommendations or not.\n",
        "\n",
        "What value did you get for different n?"
      ],
      "id": "6c4d96ba-8818-42a1-ae3b-3c8ae0b592c5"
    },
    {
      "cell_type": "code",
      "metadata": {
        "id": "afaee813-d6ff-4b32-b9da-5e4c96514124"
      },
      "source": [
        "def f(row, recos, n):\n",
        "  contains_reco = False\n",
        "  movie_id = row['movieId']\n",
        "  next_movie_id = row['nextMovieId']\n",
        "  if pd.isna(next_movie_id):\n",
        "    return True\n",
        "  recos_for_movie = getReco(recos, movie_id, n)\n",
        "  if next_movie_id in recos_for_movie.values:\n",
        "    contains_reco = True\n",
        "  return contains_reco\n",
        "\n",
        "def viewsAtN(recos, n):\n",
        "    isInReco = nextviews.apply(f, args=(recos, n), axis=1, result_type='expand')\n",
        "    return isInReco.sum() / nextviews.shape[0]\n",
        "\n",
        "at_10 = viewsAtN(recos, 10)\n",
        "at_20 = viewsAtN(recos, 20)\n",
        "at_50 = viewsAtN(recos, 50)"
      ],
      "id": "afaee813-d6ff-4b32-b9da-5e4c96514124",
      "execution_count": 144,
      "outputs": []
    },
    {
      "cell_type": "code",
      "metadata": {
        "id": "ABwkXgskLMZO",
        "outputId": "a806f44c-b237-4edf-933a-ec09b27a5304",
        "colab": {
          "base_uri": "https://localhost:8080/"
        }
      },
      "source": [
        "print('view@10: ', at_10)\n",
        "print('view@20: ', at_20)\n",
        "print('view@50: ', at_50)"
      ],
      "id": "ABwkXgskLMZO",
      "execution_count": 145,
      "outputs": [
        {
          "output_type": "stream",
          "text": [
            "view@10:  0.07716560573104783\n",
            "view@20:  0.11928042623670505\n",
            "view@50:  0.19992816235308203\n"
          ],
          "name": "stdout"
        }
      ]
    },
    {
      "cell_type": "code",
      "metadata": {
        "id": "6k72STxqihH_",
        "outputId": "80be1572-f53b-4686-f979-a748888fc514",
        "colab": {
          "base_uri": "https://localhost:8080/",
          "height": 424
        }
      },
      "source": [
        "nextviews"
      ],
      "id": "6k72STxqihH_",
      "execution_count": 147,
      "outputs": [
        {
          "output_type": "execute_result",
          "data": {
            "text/html": [
              "<div>\n",
              "<style scoped>\n",
              "    .dataframe tbody tr th:only-of-type {\n",
              "        vertical-align: middle;\n",
              "    }\n",
              "\n",
              "    .dataframe tbody tr th {\n",
              "        vertical-align: top;\n",
              "    }\n",
              "\n",
              "    .dataframe thead th {\n",
              "        text-align: right;\n",
              "    }\n",
              "</style>\n",
              "<table border=\"1\" class=\"dataframe\">\n",
              "  <thead>\n",
              "    <tr style=\"text-align: right;\">\n",
              "      <th></th>\n",
              "      <th>userId</th>\n",
              "      <th>movieId</th>\n",
              "      <th>nextMovieId</th>\n",
              "      <th>timestamp</th>\n",
              "    </tr>\n",
              "  </thead>\n",
              "  <tbody>\n",
              "    <tr>\n",
              "      <th>43</th>\n",
              "      <td>1</td>\n",
              "      <td>804</td>\n",
              "      <td>1210</td>\n",
              "      <td>2000-07-30 18:08:19</td>\n",
              "    </tr>\n",
              "    <tr>\n",
              "      <th>73</th>\n",
              "      <td>1</td>\n",
              "      <td>1210</td>\n",
              "      <td>2018</td>\n",
              "      <td>2000-07-30 18:08:19</td>\n",
              "    </tr>\n",
              "    <tr>\n",
              "      <th>120</th>\n",
              "      <td>1</td>\n",
              "      <td>2018</td>\n",
              "      <td>2628</td>\n",
              "      <td>2000-07-30 18:08:43</td>\n",
              "    </tr>\n",
              "    <tr>\n",
              "      <th>171</th>\n",
              "      <td>1</td>\n",
              "      <td>2628</td>\n",
              "      <td>2826</td>\n",
              "      <td>2000-07-30 18:08:43</td>\n",
              "    </tr>\n",
              "    <tr>\n",
              "      <th>183</th>\n",
              "      <td>1</td>\n",
              "      <td>2826</td>\n",
              "      <td>3578</td>\n",
              "      <td>2000-07-30 18:08:43</td>\n",
              "    </tr>\n",
              "    <tr>\n",
              "      <th>...</th>\n",
              "      <td>...</td>\n",
              "      <td>...</td>\n",
              "      <td>...</td>\n",
              "      <td>...</td>\n",
              "    </tr>\n",
              "    <tr>\n",
              "      <th>99751</th>\n",
              "      <td>610</td>\n",
              "      <td>3727</td>\n",
              "      <td>101739</td>\n",
              "      <td>2017-05-28 08:14:25</td>\n",
              "    </tr>\n",
              "    <tr>\n",
              "      <th>100612</th>\n",
              "      <td>610</td>\n",
              "      <td>101739</td>\n",
              "      <td>70</td>\n",
              "      <td>2017-05-28 08:14:29</td>\n",
              "    </tr>\n",
              "    <tr>\n",
              "      <th>99540</th>\n",
              "      <td>610</td>\n",
              "      <td>70</td>\n",
              "      <td>328</td>\n",
              "      <td>2017-05-28 08:14:42</td>\n",
              "    </tr>\n",
              "    <tr>\n",
              "      <th>99556</th>\n",
              "      <td>610</td>\n",
              "      <td>328</td>\n",
              "      <td>2459</td>\n",
              "      <td>2017-05-28 08:14:59</td>\n",
              "    </tr>\n",
              "    <tr>\n",
              "      <th>99681</th>\n",
              "      <td>610</td>\n",
              "      <td>2459</td>\n",
              "      <td>3917</td>\n",
              "      <td>2017-05-28 08:16:45</td>\n",
              "    </tr>\n",
              "  </tbody>\n",
              "</table>\n",
              "<p>100226 rows × 4 columns</p>\n",
              "</div>"
            ],
            "text/plain": [
              "        userId  movieId  nextMovieId           timestamp\n",
              "43           1      804         1210 2000-07-30 18:08:19\n",
              "73           1     1210         2018 2000-07-30 18:08:19\n",
              "120          1     2018         2628 2000-07-30 18:08:43\n",
              "171          1     2628         2826 2000-07-30 18:08:43\n",
              "183          1     2826         3578 2000-07-30 18:08:43\n",
              "...        ...      ...          ...                 ...\n",
              "99751      610     3727       101739 2017-05-28 08:14:25\n",
              "100612     610   101739           70 2017-05-28 08:14:29\n",
              "99540      610       70          328 2017-05-28 08:14:42\n",
              "99556      610      328         2459 2017-05-28 08:14:59\n",
              "99681      610     2459         3917 2017-05-28 08:16:45\n",
              "\n",
              "[100226 rows x 4 columns]"
            ]
          },
          "metadata": {
            "tags": []
          },
          "execution_count": 147
        }
      ]
    },
    {
      "cell_type": "markdown",
      "metadata": {
        "id": "689c93a3-1fee-489b-a398-6091e6e1bb54"
      },
      "source": [
        "## Computing MRR@n\n",
        "\n",
        "Just as above, compute a function that computes the MRR.\n",
        "\n",
        "Hint, if you have a Python list l, you can use l.index(i) to get the index of item i."
      ],
      "id": "689c93a3-1fee-489b-a398-6091e6e1bb54"
    },
    {
      "cell_type": "code",
      "metadata": {
        "id": "dc6ab6a3-85e0-4a07-8bb1-c601cf8132d1",
        "colab": {
          "base_uri": "https://localhost:8080/",
          "height": 133
        },
        "outputId": "46a02e8a-6009-48b6-ca4b-96d773f6999a"
      },
      "source": [
        "def MRRAtN(recos, n):\n",
        "    #TODO\n",
        "\n",
        "MRRAtN(recos, 50)\n"
      ],
      "id": "dc6ab6a3-85e0-4a07-8bb1-c601cf8132d1",
      "execution_count": 148,
      "outputs": [
        {
          "output_type": "error",
          "ename": "IndentationError",
          "evalue": "ignored",
          "traceback": [
            "\u001b[0;36m  File \u001b[0;32m\"<ipython-input-148-2d85761ed061>\"\u001b[0;36m, line \u001b[0;32m4\u001b[0m\n\u001b[0;31m    MRRAtN(recos, 50)\u001b[0m\n\u001b[0m         ^\u001b[0m\n\u001b[0;31mIndentationError\u001b[0m\u001b[0;31m:\u001b[0m expected an indented block\n"
          ]
        }
      ]
    },
    {
      "cell_type": "markdown",
      "metadata": {
        "id": "46afb769-510e-4a3e-871e-5946d799c60a"
      },
      "source": [
        "## Congratulations!\n",
        "\n",
        "You did some exploratory analysis on user interaction data, build a simple recommendation model and did some evaluation. These are all steps you would be doing on a data science project.\n",
        "\n",
        "Here are some things you would do in practice:\n",
        "\n",
        "- more properly separate between training and test data.\n",
        "- make the code more modular so you can evaluate arbitrary algorithms.\n",
        "- Look into other methods, e.g. content based filtering. You could for example take the genre data, and suggest the most popular movie from a given genre.\n",
        "- You could look into factorization methods like Alternate Least Squares or versions of non-negative matrix factorization. These are dimension-reduction methods that try to explain the ratings in terms of a smaller number of factors. These \"compress\" data and could help if the data is very sparse.\n",
        "- Productionize the system. It is not uncommon for recommendation systems to compute all recommendations in a batch fashion and then just load the recommended items into a database. No need to run a ML model in production.\n",
        "\n"
      ],
      "id": "46afb769-510e-4a3e-871e-5946d799c60a"
    },
    {
      "cell_type": "code",
      "metadata": {
        "id": "c3589bba-fe85-4231-a15f-41d17af23c39"
      },
      "source": [
        ""
      ],
      "id": "c3589bba-fe85-4231-a15f-41d17af23c39",
      "execution_count": null,
      "outputs": []
    }
  ]
}