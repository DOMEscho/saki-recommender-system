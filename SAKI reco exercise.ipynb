{
 "cells": [
  {
   "cell_type": "markdown",
   "id": "375fcebf-05e0-44e1-baf8-abeae6ce3eed",
   "metadata": {},
   "source": [
    "# Recommender system exercises\n",
    "\n",
    "You'll need to install the packages pandas and matplotlib for this exercise.\n",
    "\n",
    "We're working with the movielens data set, the smaller version. This data set contains 100k ratings for 9000 movies from 600 users.\n",
    "\n",
    "We'll have a look at the data, implement collaborative filtering, and look at some typical metrics."
   ]
  },
  {
   "cell_type": "markdown",
   "id": "29c7d75b-fe07-4cef-b289-48740a9789e7",
   "metadata": {},
   "source": [
    "## Getting the data\n",
    "\n",
    "Uncomment the lines in the next box and this will download the files and unzip them in this directory.\n"
   ]
  },
  {
   "cell_type": "code",
   "execution_count": null,
   "id": "08325700-5f6c-4c3a-ab60-deed2cbc4504",
   "metadata": {},
   "outputs": [],
   "source": [
    "# Do this only once!\n",
    "#!wget http://files.grouplens.org/datasets/movielens/ml-latest-small.zip\n",
    "#!unzip ml-latest-small.zip"
   ]
  },
  {
   "cell_type": "markdown",
   "id": "22b06f16-6b79-4b2c-b0c7-2fb598b5a51e",
   "metadata": {},
   "source": [
    "These are the includes for the rest of the notebook"
   ]
  },
  {
   "cell_type": "code",
   "execution_count": null,
   "id": "4766af4e-320c-4048-8aed-b2ddbebf8bec",
   "metadata": {},
   "outputs": [],
   "source": [
    "import pandas as pd\n",
    "import numpy as np\n",
    "import datetime\n",
    "import matplotlib as mpl"
   ]
  },
  {
   "cell_type": "markdown",
   "id": "a080f010-2876-4131-8740-27f25c306200",
   "metadata": {},
   "source": [
    "## Reading the movie data\n",
    "\n",
    "Let's start by reading the movie data and define a function findMovieByTitle that returns all movies which match a given string.\n",
    "\n",
    "We'll use the [pandas](https://pandas.pydata.org/pandas-docs/stable/index.html) library for loading. Key to performance is to not manually iterate over the data, but use built-in functions as much as possible."
   ]
  },
  {
   "cell_type": "code",
   "execution_count": null,
   "id": "32daf323-2cbe-4c86-9b9e-2f26434bdbab",
   "metadata": {},
   "outputs": [],
   "source": [
    "movies = pd.read_csv('ml-latest-small/movies.csv', index_col='movieId') # why is it called index_col, not index"
   ]
  },
  {
   "cell_type": "markdown",
   "id": "73a364bf-4f94-42f6-ab32-c77eac5ccdff",
   "metadata": {},
   "source": [
    "Implement a function findMovieByTitle that returns all movies whose title matches the string passed.\n",
    "\n",
    "Then, let's return all movies containing the term 'Matrix'"
   ]
  },
  {
   "cell_type": "code",
   "execution_count": null,
   "id": "bb31ddf7-0948-4860-b1ee-dcc2622c46db",
   "metadata": {},
   "outputs": [],
   "source": [
    "# a function to do some exploration\n",
    "def findMovieByTitle(title):\n",
    "    return movies[movies.title.str.find(title) != -1]\n",
    "\n",
    "findMovieByTitle('Matrix')"
   ]
  },
  {
   "cell_type": "markdown",
   "id": "97e7f030-7c49-4b29-804e-9927aef0e542",
   "metadata": {},
   "source": [
    "## Reading the ratings data\n",
    "\n",
    "Next, we'll load the ratings data set. Use datetime.datetime.fromtimestamp to convert the timestamp column to an actual datetime object (this will make it more readable)"
   ]
  },
  {
   "cell_type": "code",
   "execution_count": null,
   "id": "0809bd19-abf8-4879-9153-b9fee7ea64ed",
   "metadata": {},
   "outputs": [],
   "source": [
    "ratings = pd.read_csv('ml-latest-small/ratings.csv')\n",
    "ratings.timestamp = ratings.timestamp.apply(datetime.datetime.fromtimestamp) # datetime.datetime WTF\n",
    "\n",
    "userIds = ratings.userId.unique()\n"
   ]
  },
  {
   "cell_type": "markdown",
   "id": "99304b05-d750-42f1-85b1-e48ec94b59b6",
   "metadata": {},
   "source": [
    "Now, define a function ratingsForUser that takes a user id and returns all the entries from the ratings table for that user."
   ]
  },
  {
   "cell_type": "code",
   "execution_count": null,
   "id": "9fa23ccf-b29b-4b3b-8ffc-d802fb8f41bb",
   "metadata": {},
   "outputs": [],
   "source": [
    "# again, another function to find some data\n",
    "def ratingsForUser(uid):\n",
    "    #TODO\n",
    "\n",
    "ratingsForUser(20)"
   ]
  },
  {
   "cell_type": "markdown",
   "id": "40f30345-db31-4151-9924-70a425d6a91b",
   "metadata": {},
   "source": [
    "Let's do some data exploration. Compute the number of ratings per user and plot the histogram. Hint, use the [groupby](https://pandas.pydata.org/pandas-docs/stable/reference/api/pandas.DataFrame.groupby.html) function from pandas. "
   ]
  },
  {
   "cell_type": "code",
   "execution_count": null,
   "id": "defce79a-68f1-4c0a-91f0-2e01efbbefda",
   "metadata": {},
   "outputs": [],
   "source": [
    "# compute a histogram of number of ratings.\n",
    "#TODO"
   ]
  },
  {
   "cell_type": "markdown",
   "id": "ac53b4c3-5d23-4048-a3db-64d328a6b114",
   "metadata": {},
   "source": [
    "This data set looks highly skewed as often the case. Most users have only a small number of ratings. What is the minimum number of ratings in the data set?"
   ]
  },
  {
   "cell_type": "code",
   "execution_count": null,
   "id": "870e88c0-5ac0-4760-a02f-660f8c4da14a",
   "metadata": {},
   "outputs": [],
   "source": [
    "#TODO "
   ]
  },
  {
   "cell_type": "markdown",
   "id": "b5b7088c-7b1f-4f86-bed9-011ed63be1fe",
   "metadata": {},
   "source": [
    "What is the movie with the most views?"
   ]
  },
  {
   "cell_type": "code",
   "execution_count": null,
   "id": "b996671f-15e6-4814-bd94-c1b43247e2f8",
   "metadata": {},
   "outputs": [],
   "source": [
    "#TODO"
   ]
  },
  {
   "cell_type": "markdown",
   "id": "80fa24a5-ff27-4df8-bf14-db58e0f57ff4",
   "metadata": {},
   "source": [
    "This is a all not very informative. Try joining the movies data to this result set so that you can see the title and the other columns as well. (Hint: you need to use the 'on=' keyword int he join function)"
   ]
  },
  {
   "cell_type": "code",
   "execution_count": null,
   "id": "6a229651-700d-4b0b-873c-023deebd9f7b",
   "metadata": {},
   "outputs": [],
   "source": [
    "#TODO"
   ]
  },
  {
   "cell_type": "markdown",
   "id": "3d1d121b-8f21-4129-9770-337057daf865",
   "metadata": {},
   "source": [
    "Likewise, what's the best rated movie of all times?"
   ]
  },
  {
   "cell_type": "code",
   "execution_count": null,
   "id": "2329c488-6f35-4717-abc7-a08edc313291",
   "metadata": {},
   "outputs": [],
   "source": [
    "#TODO"
   ]
  },
  {
   "cell_type": "markdown",
   "id": "bbcc99bc-0c44-43ec-9594-7c9c26d24b4e",
   "metadata": {},
   "source": [
    "The top seems to be movies with very few ratings, only look at movies that have twenty or more ratings."
   ]
  },
  {
   "cell_type": "code",
   "execution_count": null,
   "id": "1fb4020c-0553-44fc-93c3-5d0df2adb83e",
   "metadata": {},
   "outputs": [],
   "source": [
    "#TODO"
   ]
  },
  {
   "cell_type": "markdown",
   "id": "3df7e69c-9f25-4d82-8b76-14f92cde6bf5",
   "metadata": {},
   "source": [
    "# Toy data\n",
    "\n",
    "Before we go into working on collaborative filtering, let's define a toy data set. This is generally good practice if you are working with real-world data sets. Toy data is smaller and you can work faster, but you can also design it in a way that you know the outcome."
   ]
  },
  {
   "cell_type": "code",
   "execution_count": null,
   "id": "bc601f80-3657-45cf-afa8-789d4e71ad21",
   "metadata": {},
   "outputs": [],
   "source": [
    "toyratings = pd.DataFrame(data={\n",
    "    'userId': [1, 1, 1, 1, 1,\n",
    "              2, 2, 2,\n",
    "              3, 3, 3],\n",
    "    'movieId': [1,2,3,4,8,\n",
    "               1,2,3,\n",
    "               2,3,5],\n",
    "    'rating': [5.0, 4.0, 3.0, 2.0, 1.0,\n",
    "               1.0, 2.0, 3.0,\n",
    "               3.0, 3.0, 3.0],\n",
    "    'timestamp': ['2021-01-01 10:00', '2021-01-02 08:00', '2021-01-03 09:00', '2021-01-04 10:00', '2021-01-05 11:00',\n",
    "                 '2021-01-10 08:00', '2021-01-11 09:00', '2021-01-13 10:00',\n",
    "                '2021-01-07 08:00', '2021-01-09 09:00', '2021-01-11 10:00']\n",
    "                  \n",
    "})\n",
    "toyratings"
   ]
  },
  {
   "cell_type": "markdown",
   "id": "2e9b4b5e-bcee-40d8-9871-1ad799478638",
   "metadata": {},
   "source": [
    "# Collaborative filtering\n",
    "\n",
    "We will now (finally) implement collaborative filtering. For two movies, it looks at the ratings of all users and computes the cosine similarities between these vectors. It might sound simple, but works if you have sufficient amounts of data, and is often a good first version.\n",
    "\n",
    "We're not dealing with this here, but for future reference: It is not personalized, and you don't know how to do recommendations for new items. There are other methods that look at customer events, or take content into account to deal with these kinds of problems. Factorization methods can also help if your data is very sparse.\n",
    "\n",
    "Implement a function that takes the ratings dataframe and returns a dataframe which contains movie to movie similarities. You can convert the dataframe to a numpy array to work with matrix algebra. Try to avoid using explicit for loops."
   ]
  },
  {
   "cell_type": "code",
   "execution_count": null,
   "id": "55842a21-5b1e-4bbd-baa0-bd33087216e1",
   "metadata": {},
   "outputs": [],
   "source": [
    "def collaborative_filtering(ratings):\n",
    "    #TODO\n",
    "    \n",
    "collaborative_filtering(toyratings)"
   ]
  },
  {
   "cell_type": "markdown",
   "id": "baf976e1-57ad-46cf-8862-8c15e19e3953",
   "metadata": {},
   "source": [
    "Let's store the result in the _sims_ variable for the full rating data set and in the _ts_ variable for the toyratings."
   ]
  },
  {
   "cell_type": "code",
   "execution_count": null,
   "id": "fd3d9d24-743a-4bc4-a072-056fe2247548",
   "metadata": {},
   "outputs": [],
   "source": [
    "sims = collaborative_filtering(ratings)\n",
    "sims\n",
    "\n",
    "ts = collaborative_filtering(toyratings)\n",
    "ts"
   ]
  },
  {
   "cell_type": "markdown",
   "id": "d7cb5ba7-5286-4762-a694-b5cd6292aa9b",
   "metadata": {},
   "source": [
    "For getting recommendations quickly, let create another dataframe where each row is the ids of the recommendations. We get this by sorting the rows of the similarity dataframe.\n",
    "\n",
    "Write a function _allrecos_ that takes the similarity matrix computed by _collaborative_filtering_ and returns another dataframe with the values such that the first column is the movie itself (highest similarity), the second column is the second most similar, and so on..."
   ]
  },
  {
   "cell_type": "code",
   "execution_count": null,
   "id": "724d0c65-3f94-4ee2-ba75-21289d281612",
   "metadata": {},
   "outputs": [],
   "source": [
    "def allrecos(sims):\n",
    "    #TODO\n",
    "\n",
    "recos = allrecos(sims)\n",
    "recos"
   ]
  },
  {
   "cell_type": "markdown",
   "id": "c2a64fd7-0f9c-4397-901e-aa0c8c993e2a",
   "metadata": {},
   "source": [
    "Finally, we define the function getReco that takes the recommendation dataframe, a movie id, and optinally a number of items to recommend and returns a "
   ]
  },
  {
   "cell_type": "code",
   "execution_count": null,
   "id": "9164756d-8d7e-42ad-8141-a8ef99f85fe5",
   "metadata": {},
   "outputs": [],
   "source": [
    "def getReco(recos, mi, n=10):\n",
    "    # TODO\n",
    "\n",
    "getReco(recos, 1)"
   ]
  },
  {
   "cell_type": "markdown",
   "id": "cc13f84a-e49e-4c70-9ddd-0dcec3f06c77",
   "metadata": {},
   "source": [
    "As we did above, if we join with the movies table we can also see what we're recommending.\n",
    "\n",
    "Write a function `printReco` that takes the recommendation table, a movie id, optionally a number of recommendations to return and joins the information from the movies table to the recommendations. Make it also output the title of the passed movie id.\n",
    "\n",
    "Hint: you can use to_frame(name='movieId') to turn the recommendations into a dataframe that can be joined more easily with the movies dataframe."
   ]
  },
  {
   "cell_type": "code",
   "execution_count": null,
   "id": "fa93facc-4ef2-436c-aa2f-74e12b72cb2e",
   "metadata": {},
   "outputs": [],
   "source": [
    "def printReco(recos, mi, n=10):\n",
    "    # TODO \n",
    "\n",
    "printReco(recos, 1)"
   ]
  },
  {
   "cell_type": "markdown",
   "id": "12848a69-2867-4b1d-9f61-bca30e7b32d7",
   "metadata": {},
   "source": [
    "What are the recommendations for the first Matrix movie?"
   ]
  },
  {
   "cell_type": "code",
   "execution_count": null,
   "id": "f87e161b-dc2a-4650-948e-69f4d4d7f92f",
   "metadata": {},
   "outputs": [],
   "source": [
    "# TODO"
   ]
  },
  {
   "cell_type": "markdown",
   "id": "87c43136-1614-40a5-8779-64a341c15ac2",
   "metadata": {},
   "source": [
    "What are the recommendations to 'When Harry Met Sally'?"
   ]
  },
  {
   "cell_type": "code",
   "execution_count": null,
   "id": "abfe6c01-0df2-4b3b-b5a8-7ad1fd1817f9",
   "metadata": {},
   "outputs": [],
   "source": [
    "# TODO"
   ]
  },
  {
   "cell_type": "markdown",
   "id": "44f05b14-845a-4019-8a7b-9be025c4e100",
   "metadata": {},
   "source": [
    "# Now let's compute some metrics\n",
    "\n",
    "As you hopefully saw from the above examples, the algorithm seems to be making more or less sense. However, in practice, you'll want to define some metrics that can objectively measure how well the algorithm works. We're looking at two measures here, views@n and mean reciprocal rank@n.\n",
    "\n",
    "The \"@n\" part measures how many recommendations you want.\n",
    "\n",
    "views@n measure the percentage of recommendations that contained the next movie viewed by a users.\n",
    "\n",
    "mrr@n measures the mean reciprocal rank: you take the position p of the item that has been viewed and take the 1/p and then take the mean over all recommendations.\n",
    "\n",
    "This setting simulates a setting where we would have shown our recommendations after each view and measures whether we were able to recommend something that people viewed.\n",
    "\n",
    "The analysis is very simple and also incorrect strictly speaking because our model has been trained on the views we are using to evaluate. Since the model is very simple, we'll probably not see overfitting."
   ]
  },
  {
   "cell_type": "markdown",
   "id": "b9b65e26-f3fc-4840-9ed2-e3644f095bb2",
   "metadata": {},
   "source": [
    "## Looking at the next recommendation\n",
    "\n",
    "As a first step, we need to collect pairs of movieId and next movieId from the ratings. The ratings table is already sorted by userIds, but the times are bit all over the place. Sort the ratings table first by userId and timestamp.\n",
    "\n",
    "I personally didn't find a good way to do this with pandas operations, so iterate over the whole table. Or try to find a better solutions!\n",
    "\n",
    "The end result should be a dataframe with the columns userId, movieId, nextMovieId, timestamp (of the first view)."
   ]
  },
  {
   "cell_type": "code",
   "execution_count": null,
   "id": "ad41e867-72c8-4e7a-8fe2-eeaa75acb28d",
   "metadata": {},
   "outputs": [],
   "source": [
    "# create a new dataframe with nextMovieId, if that is given in the same session.\n",
    "\n",
    "ratings = ratings.sort_values(...) #TODO\n",
    "\n",
    "nextviews = #TODO"
   ]
  },
  {
   "cell_type": "markdown",
   "id": "6c4d96ba-8818-42a1-ae3b-3c8ae0b592c5",
   "metadata": {},
   "source": [
    "## Computing views@n\n",
    "\n",
    "Now implement a function that computes the views@n metric.\n",
    "\n",
    "Hint: Using \"axis=1\" in DataFrame#apply let's you run a function over the rows of a data frame. Define a helper function that gets the recommendations via getReco defined above and checks whether the nextMovieId is in the recommendations or not.\n",
    "\n",
    "What value did you get for different n?"
   ]
  },
  {
   "cell_type": "code",
   "execution_count": null,
   "id": "afaee813-d6ff-4b32-b9da-5e4c96514124",
   "metadata": {},
   "outputs": [],
   "source": [
    "def viewsAtN(recos, n):\n",
    "   #TODO\n",
    "\n",
    "viewsAtN(recos, 50)\n"
   ]
  },
  {
   "cell_type": "markdown",
   "id": "689c93a3-1fee-489b-a398-6091e6e1bb54",
   "metadata": {},
   "source": [
    "## Computing MRR@n\n",
    "\n",
    "Just as above, compute a function that computes the MRR.\n",
    "\n",
    "Hint, if you have a Python list l, you can use l.index(i) to get the index of item i."
   ]
  },
  {
   "cell_type": "code",
   "execution_count": null,
   "id": "dc6ab6a3-85e0-4a07-8bb1-c601cf8132d1",
   "metadata": {},
   "outputs": [],
   "source": [
    "def MRRAtN(recos, n):\n",
    "    #TODO\n",
    "\n",
    "MRRAtN(recos, 50)\n"
   ]
  },
  {
   "cell_type": "markdown",
   "id": "46afb769-510e-4a3e-871e-5946d799c60a",
   "metadata": {},
   "source": [
    "## Congratulations!\n",
    "\n",
    "You did some exploratory analysis on user interaction data, build a simple recommendation model and did some evaluation. These are all steps you would be doing on a data science project.\n",
    "\n",
    "Here are some things you would do in practice:\n",
    "\n",
    "- more properly separate between training and test data.\n",
    "- make the code more modular so you can evaluate arbitrary algorithms.\n",
    "- Look into other methods, e.g. content based filtering. You could for example take the genre data, and suggest the most popular movie from a given genre.\n",
    "- You could look into factorization methods like Alternate Least Squares or versions of non-negative matrix factorization. These are dimension-reduction methods that try to explain the ratings in terms of a smaller number of factors. These \"compress\" data and could help if the data is very sparse.\n",
    "- Productionize the system. It is not uncommon for recommendation systems to compute all recommendations in a batch fashion and then just load the recommended items into a database. No need to run a ML model in production.\n",
    "\n"
   ]
  },
  {
   "cell_type": "code",
   "execution_count": null,
   "id": "c3589bba-fe85-4231-a15f-41d17af23c39",
   "metadata": {},
   "outputs": [],
   "source": []
  }
 ],
 "metadata": {
  "kernelspec": {
   "display_name": "Python 3",
   "language": "python",
   "name": "python3"
  },
  "language_info": {
   "codemirror_mode": {
    "name": "ipython",
    "version": 3
   },
   "file_extension": ".py",
   "mimetype": "text/x-python",
   "name": "python",
   "nbconvert_exporter": "python",
   "pygments_lexer": "ipython3",
   "version": "3.8.10"
  }
 },
 "nbformat": 4,
 "nbformat_minor": 5
}
